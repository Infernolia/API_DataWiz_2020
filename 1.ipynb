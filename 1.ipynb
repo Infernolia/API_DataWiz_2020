{
  "nbformat": 4,
  "nbformat_minor": 0,
  "metadata": {
    "kernelspec": {
      "display_name": "Python 3",
      "language": "python",
      "name": "python3"
    },
    "language_info": {
      "codemirror_mode": {
        "name": "ipython",
        "version": 3
      },
      "file_extension": ".py",
      "mimetype": "text/x-python",
      "name": "python",
      "nbconvert_exporter": "python",
      "pygments_lexer": "ipython3",
      "version": "3.8.3"
    },
    "colab": {
      "name": "Crazy_API_ver-final.ipynb",
      "provenance": []
    }
  },
  "cells": [
    {
      "cell_type": "markdown",
      "metadata": {
        "id": "YcPvtpfStnlt",
        "colab_type": "text"
      },
      "source": [
        "Raghavendra Kharosekar"
      ]
    },
    {
      "cell_type": "markdown",
      "metadata": {
        "id": "nf2Uslk2tnlu",
        "colab_type": "text"
      },
      "source": [
        "Importing all the required modules"
      ]
    },
    {
      "cell_type": "code",
      "metadata": {
        "id": "6Uo2PjGptnlu",
        "colab_type": "code",
        "colab": {}
      },
      "source": [
        "import yfinance as yf\n",
        "import pandas as pd\n",
        "import numpy as np\n",
        "import yahoo_finance as yhoo\n",
        "import matplotlib.pyplot as plt\n",
        "from yahoo_finance import Share\n",
        "import csv\n",
        "import datetime"
      ],
      "execution_count": null,
      "outputs": []
    },
    {
      "cell_type": "markdown",
      "metadata": {
        "id": "8Dp-eUtgtnly",
        "colab_type": "text"
      },
      "source": [
        "Downloading the important info - opening price,closing price, High,Low, Splits, Dividends and Volume of the 5 Tickers as CSV File."
      ]
    },
    {
      "cell_type": "code",
      "metadata": {
        "id": "nmNPVvDQtnly",
        "colab_type": "code",
        "colab": {},
        "outputId": "df367111-11bd-42eb-dc18-c2f456a6a3a0"
      },
      "source": [
        "yf.Tickers(['AAPL','TSLA','GOOGL','MSFT','AMZN']).download().to_csv('stock_price_info_of_5_Tickers.csv')"
      ],
      "execution_count": null,
      "outputs": [
        {
          "output_type": "stream",
          "text": [
            "[*********************100%***********************]  5 of 5 completed\n"
          ],
          "name": "stdout"
        }
      ]
    },
    {
      "cell_type": "markdown",
      "metadata": {
        "id": "5eYyZNKntnl1",
        "colab_type": "text"
      },
      "source": [
        "Creating a csv file of basic information of 5 Tickers"
      ]
    },
    {
      "cell_type": "code",
      "metadata": {
        "id": "rM9qtIbNtnl2",
        "colab_type": "code",
        "colab": {}
      },
      "source": [
        "def info_func(ticker_name):\n",
        "    '''\n",
        "    This Functions returns all the information of the Ticker\n",
        "    '''\n",
        "    T_name = yf.Ticker(ticker_name)\n",
        "    key_list = list(T_name.info.keys())\n",
        "    val_list = list(T_name.info.values())\n",
        "    df = pd.DataFrame(data=val_list,index=key_list)\n",
        "    info_df  = df.transpose().rename(index={0:ticker_name})\n",
        "    \n",
        "    return info_df\n",
        "\n",
        "a =info_func('AAPL')\n",
        "b =info_func('GOOG')\n",
        "c =info_func('TSLA')\n",
        "d =info_func('MSFT')\n",
        "e =info_func('AMZN')\n",
        "pd.concat([a,b,c,d,e]).to_csv('info_of_Tickers.csv')"
      ],
      "execution_count": null,
      "outputs": []
    },
    {
      "cell_type": "markdown",
      "metadata": {
        "id": "fygi3nQPtnl4",
        "colab_type": "text"
      },
      "source": [
        "Retrieving the Dividend (if any provided by the company)"
      ]
    },
    {
      "cell_type": "code",
      "metadata": {
        "id": "P60ZfLkstnl4",
        "colab_type": "code",
        "colab": {}
      },
      "source": [
        "def dividend_func(ticker_name):\n",
        "    '''\n",
        "    This function returns Dividends provided by the company over the years-[if provided], and a graph.\n",
        "    '''\n",
        "    if yf.Ticker(ticker_name).dividends.empty:\n",
        "        print(\"The Company never offered Dividend to its stake holders\")\n",
        "    else:\n",
        "        divi = pd.DataFrame(yf.Ticker(ticker_name).dividends)\n",
        "        return divi\n"
      ],
      "execution_count": null,
      "outputs": []
    },
    {
      "cell_type": "markdown",
      "metadata": {
        "id": "KWoJMFIBtnl7",
        "colab_type": "text"
      },
      "source": [
        "Plotting a graph of Opening and closing prices"
      ]
    },
    {
      "cell_type": "code",
      "metadata": {
        "id": "qX2c9GCrtnl7",
        "colab_type": "code",
        "colab": {}
      },
      "source": [
        "def history_func(ticker_name):\n",
        "    '''\n",
        "    This function gives a graph of variation Opening price and closing price over time.\n",
        "    '''\n",
        "    Open_price_list = yf.Ticker(ticker_name).history()['Open']\n",
        "    close_price_list = yf.Ticker(ticker_name).history()['Close']\n",
        "    indx_lst = yf.Ticker(ticker_name).history().index\n",
        "    plt.plot(indx_lst,Open_price_list,label='Opening Price')\n",
        "    plt.plot(indx_lst,close_price_list,label='Closing Price')\n",
        "    plt.xticks(rotation=45)\n",
        "    plt.ylabel('Price')\n",
        "    plt.xlabel('Date')\n",
        "    plt.title('Variation of Opening and Closing prices')\n",
        "    plt.legend()\n"
      ],
      "execution_count": null,
      "outputs": []
    },
    {
      "cell_type": "markdown",
      "metadata": {
        "id": "IT09Qx4Ftnl9",
        "colab_type": "text"
      },
      "source": [
        "Retrieving the top 5 Share Holders"
      ]
    },
    {
      "cell_type": "code",
      "metadata": {
        "id": "JksGYIVatnl-",
        "colab_type": "code",
        "colab": {}
      },
      "source": [
        "def shareholders(ticker_name):\n",
        "    '''\n",
        "    This func provides a DataFrame of the top 5 Stake Holders in the company.\n",
        "    '''\n",
        "    global df1\n",
        "    df11 = yf.Ticker(ticker_name).get_institutional_holders().head()\n",
        "    df11.index = [1,2,3,4,5]\n",
        "    return df11"
      ],
      "execution_count": null,
      "outputs": []
    },
    {
      "cell_type": "markdown",
      "metadata": {
        "id": "ipQpJE6TtnmA",
        "colab_type": "text"
      },
      "source": [
        "Retrieving the Average revenue, environmental score and social score"
      ]
    },
    {
      "cell_type": "code",
      "metadata": {
        "id": "sfYjzbhftnmB",
        "colab_type": "code",
        "colab": {}
      },
      "source": [
        "def other_factors(ticker_name):\n",
        "    '''\n",
        "    This func gives the average rev, env. score and social score of the Company.\n",
        "    '''\n",
        "    df1 = yf.Ticker(ticker_name).calendar.loc['Revenue Average'][0]\n",
        "    df2 = yf.Ticker(ticker_name).sustainability.loc['socialScore']\n",
        "    df3 = yf.Ticker(ticker_name).sustainability.loc['environmentScore']\n",
        "    print('The average revenue of {} is {}'.format(ticker_name,df1))\n",
        "    print('The Social score of {} is {}'.format(ticker_name,df2[0]))\n",
        "    print('The Environmental score of {} is {}'.format(ticker_name,df3[0]))\n",
        "# other_factors('AAPL')"
      ],
      "execution_count": null,
      "outputs": []
    },
    {
      "cell_type": "markdown",
      "metadata": {
        "id": "J7nV3n_XtnmD",
        "colab_type": "text"
      },
      "source": [
        "The final function to call all the functions (except dividend func)"
      ]
    },
    {
      "cell_type": "code",
      "metadata": {
        "id": "dETsPHCFtnmD",
        "colab_type": "code",
        "colab": {}
      },
      "source": [
        "def main_func(ticker_name):\n",
        "    history_func(ticker_name)\n",
        "    other_factors(ticker_name)\n",
        "    divi_var =dividend_func(ticker_name)\n",
        "    b = (shareholders(ticker_name))\n",
        "    return divi_var, b"
      ],
      "execution_count": null,
      "outputs": []
    },
    {
      "cell_type": "markdown",
      "metadata": {
        "id": "H5ibf0IatnmF",
        "colab_type": "text"
      },
      "source": [
        "Below is the Analysis of 'AAPL' - APPLE INC."
      ]
    },
    {
      "cell_type": "code",
      "metadata": {
        "id": "xMh99cRLtnmG",
        "colab_type": "code",
        "colab": {},
        "outputId": "787de43a-5207-4e6c-ab20-1f90ef77ab7e"
      },
      "source": [
        "a,b = main_func('AAPL')\n",
        "display(a,b)"
      ],
      "execution_count": null,
      "outputs": [
        {
          "output_type": "stream",
          "text": [
            "The average revenue of AAPL is 63962000000\n",
            "The Social score of AAPL is 12.98\n",
            "The Environmental score of AAPL is 0.49\n"
          ],
          "name": "stdout"
        },
        {
          "output_type": "display_data",
          "data": {
            "text/html": [
              "<div>\n",
              "<style scoped>\n",
              "    .dataframe tbody tr th:only-of-type {\n",
              "        vertical-align: middle;\n",
              "    }\n",
              "\n",
              "    .dataframe tbody tr th {\n",
              "        vertical-align: top;\n",
              "    }\n",
              "\n",
              "    .dataframe thead th {\n",
              "        text-align: right;\n",
              "    }\n",
              "</style>\n",
              "<table border=\"1\" class=\"dataframe\">\n",
              "  <thead>\n",
              "    <tr style=\"text-align: right;\">\n",
              "      <th></th>\n",
              "      <th>Dividends</th>\n",
              "    </tr>\n",
              "    <tr>\n",
              "      <th>Date</th>\n",
              "      <th></th>\n",
              "    </tr>\n",
              "  </thead>\n",
              "  <tbody>\n",
              "    <tr>\n",
              "      <th>1987-05-11</th>\n",
              "      <td>0.00214</td>\n",
              "    </tr>\n",
              "    <tr>\n",
              "      <th>1987-08-10</th>\n",
              "      <td>0.00214</td>\n",
              "    </tr>\n",
              "    <tr>\n",
              "      <th>1987-11-17</th>\n",
              "      <td>0.00286</td>\n",
              "    </tr>\n",
              "    <tr>\n",
              "      <th>1988-02-12</th>\n",
              "      <td>0.00286</td>\n",
              "    </tr>\n",
              "    <tr>\n",
              "      <th>1988-05-16</th>\n",
              "      <td>0.00286</td>\n",
              "    </tr>\n",
              "    <tr>\n",
              "      <th>...</th>\n",
              "      <td>...</td>\n",
              "    </tr>\n",
              "    <tr>\n",
              "      <th>2019-08-09</th>\n",
              "      <td>0.77000</td>\n",
              "    </tr>\n",
              "    <tr>\n",
              "      <th>2019-11-07</th>\n",
              "      <td>0.77000</td>\n",
              "    </tr>\n",
              "    <tr>\n",
              "      <th>2020-02-07</th>\n",
              "      <td>0.77000</td>\n",
              "    </tr>\n",
              "    <tr>\n",
              "      <th>2020-05-08</th>\n",
              "      <td>0.82000</td>\n",
              "    </tr>\n",
              "    <tr>\n",
              "      <th>2020-08-07</th>\n",
              "      <td>0.82000</td>\n",
              "    </tr>\n",
              "  </tbody>\n",
              "</table>\n",
              "<p>68 rows × 1 columns</p>\n",
              "</div>"
            ],
            "text/plain": [
              "            Dividends\n",
              "Date                 \n",
              "1987-05-11    0.00214\n",
              "1987-08-10    0.00214\n",
              "1987-11-17    0.00286\n",
              "1988-02-12    0.00286\n",
              "1988-05-16    0.00286\n",
              "...               ...\n",
              "2019-08-09    0.77000\n",
              "2019-11-07    0.77000\n",
              "2020-02-07    0.77000\n",
              "2020-05-08    0.82000\n",
              "2020-08-07    0.82000\n",
              "\n",
              "[68 rows x 1 columns]"
            ]
          },
          "metadata": {
            "tags": []
          }
        },
        {
          "output_type": "display_data",
          "data": {
            "text/html": [
              "<div>\n",
              "<style scoped>\n",
              "    .dataframe tbody tr th:only-of-type {\n",
              "        vertical-align: middle;\n",
              "    }\n",
              "\n",
              "    .dataframe tbody tr th {\n",
              "        vertical-align: top;\n",
              "    }\n",
              "\n",
              "    .dataframe thead th {\n",
              "        text-align: right;\n",
              "    }\n",
              "</style>\n",
              "<table border=\"1\" class=\"dataframe\">\n",
              "  <thead>\n",
              "    <tr style=\"text-align: right;\">\n",
              "      <th></th>\n",
              "      <th>Holder</th>\n",
              "      <th>Shares</th>\n",
              "      <th>Date Reported</th>\n",
              "      <th>% Out</th>\n",
              "      <th>Value</th>\n",
              "    </tr>\n",
              "  </thead>\n",
              "  <tbody>\n",
              "    <tr>\n",
              "      <th>1</th>\n",
              "      <td>Vanguard Group, Inc. (The)</td>\n",
              "      <td>336728608</td>\n",
              "      <td>2020-03-30</td>\n",
              "      <td>0.0788</td>\n",
              "      <td>85626717728</td>\n",
              "    </tr>\n",
              "    <tr>\n",
              "      <th>2</th>\n",
              "      <td>Blackrock Inc.</td>\n",
              "      <td>274684501</td>\n",
              "      <td>2020-03-30</td>\n",
              "      <td>0.0642</td>\n",
              "      <td>69849521759</td>\n",
              "    </tr>\n",
              "    <tr>\n",
              "      <th>3</th>\n",
              "      <td>Berkshire Hathaway, Inc</td>\n",
              "      <td>245155566</td>\n",
              "      <td>2020-03-30</td>\n",
              "      <td>0.0573</td>\n",
              "      <td>62340608878</td>\n",
              "    </tr>\n",
              "    <tr>\n",
              "      <th>4</th>\n",
              "      <td>State Street Corporation</td>\n",
              "      <td>180558954</td>\n",
              "      <td>2020-03-30</td>\n",
              "      <td>0.0422</td>\n",
              "      <td>45914336412</td>\n",
              "    </tr>\n",
              "    <tr>\n",
              "      <th>5</th>\n",
              "      <td>Advisor Group, Inc.</td>\n",
              "      <td>116768396</td>\n",
              "      <td>2020-03-30</td>\n",
              "      <td>0.0273</td>\n",
              "      <td>29693035418</td>\n",
              "    </tr>\n",
              "  </tbody>\n",
              "</table>\n",
              "</div>"
            ],
            "text/plain": [
              "                       Holder     Shares Date Reported   % Out        Value\n",
              "1  Vanguard Group, Inc. (The)  336728608    2020-03-30  0.0788  85626717728\n",
              "2              Blackrock Inc.  274684501    2020-03-30  0.0642  69849521759\n",
              "3     Berkshire Hathaway, Inc  245155566    2020-03-30  0.0573  62340608878\n",
              "4    State Street Corporation  180558954    2020-03-30  0.0422  45914336412\n",
              "5         Advisor Group, Inc.  116768396    2020-03-30  0.0273  29693035418"
            ]
          },
          "metadata": {
            "tags": []
          }
        },
        {
          "output_type": "display_data",
          "data": {
            "image/png": "[encoded data removed]",
            "text/plain": [
              "<Figure size 432x288 with 1 Axes>"
            ]
          },
          "metadata": {
            "tags": [],
            "needs_background": "light"
          }
        }
      ]
    },
    {
      "cell_type": "markdown",
      "metadata": {
        "id": "yem-y--9tnmI",
        "colab_type": "text"
      },
      "source": [
        "Below is the Analysis of 'GOOGL' - ALPHABET INC."
      ]
    },
    {
      "cell_type": "code",
      "metadata": {
        "id": "-c8XGezOtnmI",
        "colab_type": "code",
        "colab": {},
        "outputId": "77486435-08db-4a10-f360-e6d0026acd89"
      },
      "source": [
        "a,b = main_func('GOOGL')\n",
        "display(a,b)"
      ],
      "execution_count": null,
      "outputs": [
        {
          "output_type": "stream",
          "text": [
            "The average revenue of GOOGL is 42727600000\n",
            "The Social score of GOOGL is 15.89\n",
            "The Environmental score of GOOGL is 0.9\n",
            "The Company never offered Dividend to its stake holders\n"
          ],
          "name": "stdout"
        },
        {
          "output_type": "display_data",
          "data": {
            "text/plain": [
              "None"
            ]
          },
          "metadata": {
            "tags": []
          }
        },
        {
          "output_type": "display_data",
          "data": {
            "text/html": [
              "<div>\n",
              "<style scoped>\n",
              "    .dataframe tbody tr th:only-of-type {\n",
              "        vertical-align: middle;\n",
              "    }\n",
              "\n",
              "    .dataframe tbody tr th {\n",
              "        vertical-align: top;\n",
              "    }\n",
              "\n",
              "    .dataframe thead th {\n",
              "        text-align: right;\n",
              "    }\n",
              "</style>\n",
              "<table border=\"1\" class=\"dataframe\">\n",
              "  <thead>\n",
              "    <tr style=\"text-align: right;\">\n",
              "      <th></th>\n",
              "      <th>Holder</th>\n",
              "      <th>Shares</th>\n",
              "      <th>Date Reported</th>\n",
              "      <th>% Out</th>\n",
              "      <th>Value</th>\n",
              "    </tr>\n",
              "  </thead>\n",
              "  <tbody>\n",
              "    <tr>\n",
              "      <th>1</th>\n",
              "      <td>Vanguard Group, Inc. (The)</td>\n",
              "      <td>23553069</td>\n",
              "      <td>2020-03-30</td>\n",
              "      <td>0.0784</td>\n",
              "      <td>27367488524</td>\n",
              "    </tr>\n",
              "    <tr>\n",
              "      <th>2</th>\n",
              "      <td>Blackrock Inc.</td>\n",
              "      <td>20100166</td>\n",
              "      <td>2020-03-30</td>\n",
              "      <td>0.0669</td>\n",
              "      <td>23355387883</td>\n",
              "    </tr>\n",
              "    <tr>\n",
              "      <th>3</th>\n",
              "      <td>FMR, LLC</td>\n",
              "      <td>12852942</td>\n",
              "      <td>2020-03-30</td>\n",
              "      <td>0.0428</td>\n",
              "      <td>14934475956</td>\n",
              "    </tr>\n",
              "    <tr>\n",
              "      <th>4</th>\n",
              "      <td>State Street Corporation</td>\n",
              "      <td>11689009</td>\n",
              "      <td>2020-03-30</td>\n",
              "      <td>0.0389</td>\n",
              "      <td>13582044007</td>\n",
              "    </tr>\n",
              "    <tr>\n",
              "      <th>5</th>\n",
              "      <td>Price (T.Rowe) Associates Inc</td>\n",
              "      <td>7084564</td>\n",
              "      <td>2020-03-30</td>\n",
              "      <td>0.0236</td>\n",
              "      <td>8231909139</td>\n",
              "    </tr>\n",
              "  </tbody>\n",
              "</table>\n",
              "</div>"
            ],
            "text/plain": [
              "                          Holder    Shares Date Reported   % Out        Value\n",
              "1     Vanguard Group, Inc. (The)  23553069    2020-03-30  0.0784  27367488524\n",
              "2                 Blackrock Inc.  20100166    2020-03-30  0.0669  23355387883\n",
              "3                       FMR, LLC  12852942    2020-03-30  0.0428  14934475956\n",
              "4       State Street Corporation  11689009    2020-03-30  0.0389  13582044007\n",
              "5  Price (T.Rowe) Associates Inc   7084564    2020-03-30  0.0236   8231909139"
            ]
          },
          "metadata": {
            "tags": []
          }
        },
        {
          "output_type": "display_data",
          "data": {
            "image/png": "[encoded data removed]",
            "text/plain": [
              "<Figure size 432x288 with 1 Axes>"
            ]
          },
          "metadata": {
            "tags": [],
            "needs_background": "light"
          }
        }
      ]
    },
    {
      "cell_type": "markdown",
      "metadata": {
        "id": "LtiluMGItnmL",
        "colab_type": "text"
      },
      "source": [
        "Below is the Analysis of 'MSFT' - MICROSOFT INC."
      ]
    },
    {
      "cell_type": "code",
      "metadata": {
        "id": "OhqyGkXctnmM",
        "colab_type": "code",
        "colab": {},
        "outputId": "d67b16f9-2c95-4210-c9a4-179798798362"
      },
      "source": [
        "a,b = main_func('MSFT')\n",
        "display(a,b)"
      ],
      "execution_count": null,
      "outputs": [
        {
          "output_type": "stream",
          "text": [
            "The average revenue of MSFT is 35689500000\n",
            "The Social score of MSFT is 9.37\n",
            "The Environmental score of MSFT is 0.47000000000000003\n"
          ],
          "name": "stdout"
        },
        {
          "output_type": "display_data",
          "data": {
            "text/html": [
              "<div>\n",
              "<style scoped>\n",
              "    .dataframe tbody tr th:only-of-type {\n",
              "        vertical-align: middle;\n",
              "    }\n",
              "\n",
              "    .dataframe tbody tr th {\n",
              "        vertical-align: top;\n",
              "    }\n",
              "\n",
              "    .dataframe thead th {\n",
              "        text-align: right;\n",
              "    }\n",
              "</style>\n",
              "<table border=\"1\" class=\"dataframe\">\n",
              "  <thead>\n",
              "    <tr style=\"text-align: right;\">\n",
              "      <th></th>\n",
              "      <th>Dividends</th>\n",
              "    </tr>\n",
              "    <tr>\n",
              "      <th>Date</th>\n",
              "      <th></th>\n",
              "    </tr>\n",
              "  </thead>\n",
              "  <tbody>\n",
              "    <tr>\n",
              "      <th>2003-02-19</th>\n",
              "      <td>0.08</td>\n",
              "    </tr>\n",
              "    <tr>\n",
              "      <th>2003-10-15</th>\n",
              "      <td>0.16</td>\n",
              "    </tr>\n",
              "    <tr>\n",
              "      <th>2004-08-23</th>\n",
              "      <td>0.08</td>\n",
              "    </tr>\n",
              "    <tr>\n",
              "      <th>2004-11-15</th>\n",
              "      <td>3.08</td>\n",
              "    </tr>\n",
              "    <tr>\n",
              "      <th>2005-02-15</th>\n",
              "      <td>0.08</td>\n",
              "    </tr>\n",
              "    <tr>\n",
              "      <th>...</th>\n",
              "      <td>...</td>\n",
              "    </tr>\n",
              "    <tr>\n",
              "      <th>2019-05-15</th>\n",
              "      <td>0.46</td>\n",
              "    </tr>\n",
              "    <tr>\n",
              "      <th>2019-08-14</th>\n",
              "      <td>0.46</td>\n",
              "    </tr>\n",
              "    <tr>\n",
              "      <th>2019-11-20</th>\n",
              "      <td>0.51</td>\n",
              "    </tr>\n",
              "    <tr>\n",
              "      <th>2020-02-19</th>\n",
              "      <td>0.51</td>\n",
              "    </tr>\n",
              "    <tr>\n",
              "      <th>2020-05-20</th>\n",
              "      <td>0.51</td>\n",
              "    </tr>\n",
              "  </tbody>\n",
              "</table>\n",
              "<p>66 rows × 1 columns</p>\n",
              "</div>"
            ],
            "text/plain": [
              "            Dividends\n",
              "Date                 \n",
              "2003-02-19       0.08\n",
              "2003-10-15       0.16\n",
              "2004-08-23       0.08\n",
              "2004-11-15       3.08\n",
              "2005-02-15       0.08\n",
              "...               ...\n",
              "2019-05-15       0.46\n",
              "2019-08-14       0.46\n",
              "2019-11-20       0.51\n",
              "2020-02-19       0.51\n",
              "2020-05-20       0.51\n",
              "\n",
              "[66 rows x 1 columns]"
            ]
          },
          "metadata": {
            "tags": []
          }
        },
        {
          "output_type": "display_data",
          "data": {
            "text/html": [
              "<div>\n",
              "<style scoped>\n",
              "    .dataframe tbody tr th:only-of-type {\n",
              "        vertical-align: middle;\n",
              "    }\n",
              "\n",
              "    .dataframe tbody tr th {\n",
              "        vertical-align: top;\n",
              "    }\n",
              "\n",
              "    .dataframe thead th {\n",
              "        text-align: right;\n",
              "    }\n",
              "</style>\n",
              "<table border=\"1\" class=\"dataframe\">\n",
              "  <thead>\n",
              "    <tr style=\"text-align: right;\">\n",
              "      <th></th>\n",
              "      <th>Holder</th>\n",
              "      <th>Shares</th>\n",
              "      <th>Date Reported</th>\n",
              "      <th>% Out</th>\n",
              "      <th>Value</th>\n",
              "    </tr>\n",
              "  </thead>\n",
              "  <tbody>\n",
              "    <tr>\n",
              "      <th>1</th>\n",
              "      <td>Vanguard Group, Inc. (The)</td>\n",
              "      <td>640172572</td>\n",
              "      <td>2020-03-30</td>\n",
              "      <td>0.0846</td>\n",
              "      <td>100961616330</td>\n",
              "    </tr>\n",
              "    <tr>\n",
              "      <th>2</th>\n",
              "      <td>Blackrock Inc.</td>\n",
              "      <td>517578906</td>\n",
              "      <td>2020-03-30</td>\n",
              "      <td>0.0684</td>\n",
              "      <td>81627369265</td>\n",
              "    </tr>\n",
              "    <tr>\n",
              "      <th>3</th>\n",
              "      <td>State Street Corporation</td>\n",
              "      <td>314771248</td>\n",
              "      <td>2020-03-30</td>\n",
              "      <td>0.0416</td>\n",
              "      <td>49642573522</td>\n",
              "    </tr>\n",
              "    <tr>\n",
              "      <th>4</th>\n",
              "      <td>FMR, LLC</td>\n",
              "      <td>237892832</td>\n",
              "      <td>2020-03-30</td>\n",
              "      <td>0.0314</td>\n",
              "      <td>37518078534</td>\n",
              "    </tr>\n",
              "    <tr>\n",
              "      <th>5</th>\n",
              "      <td>Price (T.Rowe) Associates Inc</td>\n",
              "      <td>172056401</td>\n",
              "      <td>2020-03-30</td>\n",
              "      <td>0.0227</td>\n",
              "      <td>27135015001</td>\n",
              "    </tr>\n",
              "  </tbody>\n",
              "</table>\n",
              "</div>"
            ],
            "text/plain": [
              "                          Holder     Shares Date Reported   % Out  \\\n",
              "1     Vanguard Group, Inc. (The)  640172572    2020-03-30  0.0846   \n",
              "2                 Blackrock Inc.  517578906    2020-03-30  0.0684   \n",
              "3       State Street Corporation  314771248    2020-03-30  0.0416   \n",
              "4                       FMR, LLC  237892832    2020-03-30  0.0314   \n",
              "5  Price (T.Rowe) Associates Inc  172056401    2020-03-30  0.0227   \n",
              "\n",
              "          Value  \n",
              "1  100961616330  \n",
              "2   81627369265  \n",
              "3   49642573522  \n",
              "4   37518078534  \n",
              "5   27135015001  "
            ]
          },
          "metadata": {
            "tags": []
          }
        },
        {
          "output_type": "display_data",
          "data": {
            "image/png": "[encoded data removed]",
            "text/plain": [
              "<Figure size 432x288 with 1 Axes>"
            ]
          },
          "metadata": {
            "tags": [],
            "needs_background": "light"
          }
        }
      ]
    },
    {
      "cell_type": "markdown",
      "metadata": {
        "id": "GJ3ZrMB1tnmO",
        "colab_type": "text"
      },
      "source": [
        "Below is the Analysis of 'TSLA' - TESLA INC."
      ]
    },
    {
      "cell_type": "code",
      "metadata": {
        "id": "A1x3cR2ptnmO",
        "colab_type": "code",
        "colab": {},
        "outputId": "f2ea0188-2716-4565-e43c-75d98e8616f9"
      },
      "source": [
        "a,b = main_func('TSLA')\n",
        "display(a,b)"
      ],
      "execution_count": null,
      "outputs": [
        {
          "output_type": "stream",
          "text": [
            "The average revenue of TSLA is 8066680000\n",
            "The Social score of TSLA is 17.31\n",
            "The Environmental score of TSLA is 2.75\n",
            "The Company never offered Dividend to its stake holders\n"
          ],
          "name": "stdout"
        },
        {
          "output_type": "display_data",
          "data": {
            "text/plain": [
              "None"
            ]
          },
          "metadata": {
            "tags": []
          }
        },
        {
          "output_type": "display_data",
          "data": {
            "text/html": [
              "<div>\n",
              "<style scoped>\n",
              "    .dataframe tbody tr th:only-of-type {\n",
              "        vertical-align: middle;\n",
              "    }\n",
              "\n",
              "    .dataframe tbody tr th {\n",
              "        vertical-align: top;\n",
              "    }\n",
              "\n",
              "    .dataframe thead th {\n",
              "        text-align: right;\n",
              "    }\n",
              "</style>\n",
              "<table border=\"1\" class=\"dataframe\">\n",
              "  <thead>\n",
              "    <tr style=\"text-align: right;\">\n",
              "      <th></th>\n",
              "      <th>Holder</th>\n",
              "      <th>Shares</th>\n",
              "      <th>Date Reported</th>\n",
              "      <th>% Out</th>\n",
              "      <th>Value</th>\n",
              "    </tr>\n",
              "  </thead>\n",
              "  <tbody>\n",
              "    <tr>\n",
              "      <th>1</th>\n",
              "      <td>Baillie Gifford and Company</td>\n",
              "      <td>11771213</td>\n",
              "      <td>2020-06-29</td>\n",
              "      <td>0.0632</td>\n",
              "      <td>12710673509</td>\n",
              "    </tr>\n",
              "    <tr>\n",
              "      <th>2</th>\n",
              "      <td>Capital World Investors</td>\n",
              "      <td>10714131</td>\n",
              "      <td>2020-03-30</td>\n",
              "      <td>0.0575</td>\n",
              "      <td>5614204644</td>\n",
              "    </tr>\n",
              "    <tr>\n",
              "      <th>3</th>\n",
              "      <td>Vanguard Group, Inc. (The)</td>\n",
              "      <td>8662781</td>\n",
              "      <td>2020-03-30</td>\n",
              "      <td>0.0465</td>\n",
              "      <td>4539297244</td>\n",
              "    </tr>\n",
              "    <tr>\n",
              "      <th>4</th>\n",
              "      <td>Blackrock Inc.</td>\n",
              "      <td>7213587</td>\n",
              "      <td>2020-03-30</td>\n",
              "      <td>0.0387</td>\n",
              "      <td>3779919588</td>\n",
              "    </tr>\n",
              "    <tr>\n",
              "      <th>5</th>\n",
              "      <td>FMR, LLC</td>\n",
              "      <td>4615556</td>\n",
              "      <td>2020-03-30</td>\n",
              "      <td>0.0248</td>\n",
              "      <td>2418551344</td>\n",
              "    </tr>\n",
              "  </tbody>\n",
              "</table>\n",
              "</div>"
            ],
            "text/plain": [
              "                        Holder    Shares Date Reported   % Out        Value\n",
              "1  Baillie Gifford and Company  11771213    2020-06-29  0.0632  12710673509\n",
              "2      Capital World Investors  10714131    2020-03-30  0.0575   5614204644\n",
              "3   Vanguard Group, Inc. (The)   8662781    2020-03-30  0.0465   4539297244\n",
              "4               Blackrock Inc.   7213587    2020-03-30  0.0387   3779919588\n",
              "5                     FMR, LLC   4615556    2020-03-30  0.0248   2418551344"
            ]
          },
          "metadata": {
            "tags": []
          }
        },
        {
          "output_type": "display_data",
          "data": {
            "image/png": "[encoded data removed]",
            "text/plain": [
              "<Figure size 432x288 with 1 Axes>"
            ]
          },
          "metadata": {
            "tags": [],
            "needs_background": "light"
          }
        }
      ]
    },
    {
      "cell_type": "markdown",
      "metadata": {
        "id": "0m2JbC7LtnmQ",
        "colab_type": "text"
      },
      "source": [
        "Below is the Analysis of 'AMZN' - AMAZON INC."
      ]
    },
    {
      "cell_type": "code",
      "metadata": {
        "id": "5wdSkNPItnmR",
        "colab_type": "code",
        "colab": {},
        "outputId": "f5c39b45-78ae-4fd7-c7d1-8a636af08bc6"
      },
      "source": [
        "a,b = main_func('AMZN')\n",
        "display(a,b)"
      ],
      "execution_count": null,
      "outputs": [
        {
          "output_type": "stream",
          "text": [
            "The average revenue of AMZN is 92394900000\n",
            "The Social score of AMZN is 13.74\n",
            "The Environmental score of AMZN is 5.82\n",
            "The Company never offered Dividend to its stake holders\n"
          ],
          "name": "stdout"
        },
        {
          "output_type": "display_data",
          "data": {
            "text/plain": [
              "None"
            ]
          },
          "metadata": {
            "tags": []
          }
        },
        {
          "output_type": "display_data",
          "data": {
            "text/html": [
              "<div>\n",
              "<style scoped>\n",
              "    .dataframe tbody tr th:only-of-type {\n",
              "        vertical-align: middle;\n",
              "    }\n",
              "\n",
              "    .dataframe tbody tr th {\n",
              "        vertical-align: top;\n",
              "    }\n",
              "\n",
              "    .dataframe thead th {\n",
              "        text-align: right;\n",
              "    }\n",
              "</style>\n",
              "<table border=\"1\" class=\"dataframe\">\n",
              "  <thead>\n",
              "    <tr style=\"text-align: right;\">\n",
              "      <th></th>\n",
              "      <th>Holder</th>\n",
              "      <th>Shares</th>\n",
              "      <th>Date Reported</th>\n",
              "      <th>% Out</th>\n",
              "      <th>Value</th>\n",
              "    </tr>\n",
              "  </thead>\n",
              "  <tbody>\n",
              "    <tr>\n",
              "      <th>1</th>\n",
              "      <td>Advisor Group, Inc.</td>\n",
              "      <td>35429155</td>\n",
              "      <td>2020-03-30</td>\n",
              "      <td>0.0707</td>\n",
              "      <td>69076932086</td>\n",
              "    </tr>\n",
              "    <tr>\n",
              "      <th>2</th>\n",
              "      <td>Vanguard Group, Inc. (The)</td>\n",
              "      <td>32975915</td>\n",
              "      <td>2020-03-30</td>\n",
              "      <td>0.0658</td>\n",
              "      <td>64293800993</td>\n",
              "    </tr>\n",
              "    <tr>\n",
              "      <th>3</th>\n",
              "      <td>Blackrock Inc.</td>\n",
              "      <td>27023092</td>\n",
              "      <td>2020-03-30</td>\n",
              "      <td>0.0540</td>\n",
              "      <td>52687462934</td>\n",
              "    </tr>\n",
              "    <tr>\n",
              "      <th>4</th>\n",
              "      <td>State Street Corporation</td>\n",
              "      <td>16267474</td>\n",
              "      <td>2020-03-30</td>\n",
              "      <td>0.0325</td>\n",
              "      <td>31717019407</td>\n",
              "    </tr>\n",
              "    <tr>\n",
              "      <th>5</th>\n",
              "      <td>FMR, LLC</td>\n",
              "      <td>15839627</td>\n",
              "      <td>2020-03-30</td>\n",
              "      <td>0.0316</td>\n",
              "      <td>30882837554</td>\n",
              "    </tr>\n",
              "  </tbody>\n",
              "</table>\n",
              "</div>"
            ],
            "text/plain": [
              "                       Holder    Shares Date Reported   % Out        Value\n",
              "1         Advisor Group, Inc.  35429155    2020-03-30  0.0707  69076932086\n",
              "2  Vanguard Group, Inc. (The)  32975915    2020-03-30  0.0658  64293800993\n",
              "3              Blackrock Inc.  27023092    2020-03-30  0.0540  52687462934\n",
              "4    State Street Corporation  16267474    2020-03-30  0.0325  31717019407\n",
              "5                    FMR, LLC  15839627    2020-03-30  0.0316  30882837554"
            ]
          },
          "metadata": {
            "tags": []
          }
        },
        {
          "output_type": "display_data",
          "data": {
            "image/png": "[encoded data removed]",
            "text/plain": [
              "<Figure size 432x288 with 1 Axes>"
            ]
          },
          "metadata": {
            "tags": [],
            "needs_background": "light"
          }
        }
      ]
    },
    {
      "cell_type": "code",
      "metadata": {
        "id": "hHrDgVpLtnmT",
        "colab_type": "code",
        "colab": {}
      },
      "source": [
        ""
      ],
      "execution_count": null,
      "outputs": []
    },
    {
      "cell_type": "code",
      "metadata": {
        "id": "65Rb4DYjtnmV",
        "colab_type": "code",
        "colab": {}
      },
      "source": [
        ""
      ],
      "execution_count": null,
      "outputs": []
    }
  ]
}