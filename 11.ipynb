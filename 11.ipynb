{
  "nbformat": 4,
  "nbformat_minor": 0,
  "metadata": {
    "kernelspec": {
      "display_name": "Python 3",
      "language": "python",
      "name": "python3"
    },
    "language_info": {
      "codemirror_mode": {
        "name": "ipython",
        "version": 3
      },
      "file_extension": ".py",
      "mimetype": "text/x-python",
      "name": "python",
      "nbconvert_exporter": "python",
      "pygments_lexer": "ipython3",
      "version": "3.8.1"
    },
    "colab": {
      "name": "Datawiz_Task2_SuyashMore.ipynb",
      "provenance": []
    }
  },
  "cells": [
    {
      "cell_type": "code",
      "metadata": {
        "id": "bg8jwLDlnvZ-",
        "colab_type": "code",
        "colab": {}
      },
      "source": [
        "from bs4 import BeautifulSoup\n",
        "import requests\n",
        "import yfinance as yf\n",
        "import pandas as pd\n",
        "import json"
      ],
      "execution_count": null,
      "outputs": []
    },
    {
      "cell_type": "code",
      "metadata": {
        "id": "kSVOMzLcnvaC",
        "colab_type": "code",
        "colab": {},
        "outputId": "e427ac87-9821-4f56-9f7f-f03e939ebbd5"
      },
      "source": [
        "ticker = ['AMZN', 'AAPL', 'MSFT', 'SPY', 'PFE']\n",
        "t = 0\n",
        "for tick in ticker:\n",
        "    lst = ['amzn.csv', 'aapl.csv', 'msft.csv', 'spy.csv', 'pfe.csv', ]\n",
        "    res = yf.Ticker(tick)\n",
        "    print(res.info)\n",
        "    old = res.history(start=\"2010-01-01\", end='2020-07-21')\n",
        "    old.to_csv(lst[t])\n",
        "\n",
        "    "
      ],
      "execution_count": null,
      "outputs": [
        {
          "output_type": "stream",
          "text": [
            "{'zip': '98109-5210', 'sector': 'Consumer Cyclical', 'fullTimeEmployees': 798000, 'longBusinessSummary': 'Amazon.com, Inc. engages in the retail sale of consumer products and subscriptions in North America and internationally. The company operates through three segments: North America, International, and Amazon Web Services (AWS). It sells merchandise and content purchased for resale from third-party sellers through physical and online stores. The company also manufactures and sells electronic devices, including Kindle, Fire tablets, Fire TVs, Rings, and Echo and other devices; provides Kindle Direct Publishing, an online service that allows independent authors and publishers to make their books available in the Kindle Store; and develops and produces media content. In addition, it offers programs that enable sellers to sell their products on its Websites, as well as its stores; and programs that allow authors, musicians, filmmakers, skill and app developers, and others to publish and sell content. Further, the company provides compute, storage, database, and other AWS services, as well as fulfillment, advertising, publishing, and digital content subscriptions. Additionally, it offers Amazon Prime, a membership program, which provides free shipping of various items; access to streaming of movies and TV episodes; and other services. The company also operates in the food delivery business in Bengaluru, India. It serves consumers, sellers, developers, enterprises, and content creators. The company also has utility-scale solar projects in China, Australia, and the United States. Amazon.com, Inc. was founded in 1994 and is headquartered in Seattle, Washington.', 'city': 'Seattle', 'phone': '206-266-1000', 'state': 'WA', 'country': 'United States', 'companyOfficers': [], 'website': 'http://www.amazon.com', 'maxAge': 1, 'address1': '410 Terry Avenue North', 'industry': 'Internet Retail', 'previousClose': 3148.02, 'regularMarketOpen': 3173.12, 'twoHundredDayAverage': 2438.8179, 'trailingAnnualDividendYield': None, 'payoutRatio': 0, 'volume24Hr': None, 'regularMarketDayHigh': 3194.97, 'navPrice': None, 'averageDailyVolume10Day': 3166533, 'totalAssets': None, 'regularMarketPreviousClose': 3148.02, 'fiftyDayAverage': 3067.277, 'trailingAnnualDividendRate': None, 'open': 3173.12, 'toCurrency': None, 'averageVolume10days': 3166533, 'expireDate': None, 'yield': None, 'algorithm': None, 'dividendRate': None, 'exDividendDate': None, 'beta': 1.325274, 'circulatingSupply': None, 'startDate': None, 'regularMarketDayLow': 3154.1775, 'priceHint': 2, 'currency': 'USD', 'trailingPE': 122.22644, 'regularMarketVolume': 2691237, 'lastMarket': None, 'maxSupply': None, 'openInterest': None, 'marketCap': 1594037239808, 'volumeAllCurrencies': None, 'strikePrice': None, 'averageVolume': 4560921, 'priceToSalesTrailing12Months': 4.95378, 'dayLow': 3154.1775, 'ask': 3199.99, 'ytdReturn': None, 'askSize': 800, 'volume': 2691237, 'fiftyTwoWeekHigh': 3344.29, 'forwardPE': 71.886375, 'fromCurrency': None, 'fiveYearAvgDividendYield': None, 'fiftyTwoWeekLow': 1626.03, 'bid': 3202.07, 'tradeable': False, 'dividendYield': None, 'bidSize': 800, 'dayHigh': 3194.97, 'exchange': 'NMS', 'shortName': 'Amazon.com, Inc.', 'longName': 'Amazon.com, Inc.', 'exchangeTimezoneName': 'America/New_York', 'exchangeTimezoneShortName': 'EDT', 'isEsgPopulated': False, 'gmtOffSetMilliseconds': '-14400000', 'quoteType': 'EQUITY', 'symbol': 'AMZN', 'messageBoardId': 'finmb_18749', 'market': 'us_market', 'annualHoldingsTurnover': None, 'enterpriseToRevenue': 5.016, 'beta3Year': None, 'profitMargins': 0.040960003, 'enterpriseToEbitda': 40.784, '52WeekChange': 0.76665103, 'morningStarRiskRating': None, 'forwardEps': 44.27, 'revenueQuarterlyGrowth': None, 'sharesOutstanding': 500889984, 'fundInceptionDate': None, 'annualReportExpenseRatio': None, 'bookValue': 147.162, 'sharesShort': 3086467, 'sharesPercentSharesOut': 0.0062, 'fundFamily': None, 'lastFiscalYearEnd': 1577750400, 'heldPercentInstitutions': 0.57689, 'netIncomeToCommon': 13180000256, 'trailingEps': 26.037, 'lastDividendValue': None, 'SandP52WeekChange': 0.16599834, 'priceToBook': 21.625216, 'heldPercentInsiders': 0.15122, 'nextFiscalYearEnd': 1640908800, 'mostRecentQuarter': 1593475200, 'shortRatio': 0.54, 'sharesShortPreviousMonthDate': 1593475200, 'floatShares': 425625972, 'enterpriseValue': 1614046298112, 'threeYearAverageReturn': None, 'lastSplitDate': 936230400, 'lastSplitFactor': '2:1', 'legalType': None, 'morningStarOverallRating': None, 'earningsQuarterlyGrowth': 0.997, 'dateShortInterest': 1596153600, 'pegRatio': 2.79, 'lastCapGain': None, 'shortPercentOfFloat': 0.0073, 'sharesShortPriorMonth': 3850771, 'category': None, 'fiveYearAverageReturn': None, 'regularMarketPrice': 3173.12, 'logo_url': 'https://logo.clearbit.com/amazon.com'}\n",
            "{'zip': '95014', 'sector': 'Technology', 'fullTimeEmployees': 137000, 'longBusinessSummary': 'Apple Inc. designs, manufactures, and markets smartphones, personal computers, tablets, wearables, and accessories worldwide. It also sells various related services. The company offers iPhone, a line of smartphones; Mac, a line of personal computers; iPad, a line of multi-purpose tablets; and wearables, home, and accessories comprising AirPods, Apple TV, Apple Watch, Beats products, HomePod, iPod touch, and other Apple-branded and third-party accessories. It also provides digital content stores and streaming services; AppleCare support services; and iCloud, a cloud service, which stores music, photos, contacts, calendars, mail, documents, and others. In addition, the company offers various service, such as Apple Arcade, a game subscription service; Apple Card, a co-branded credit card; Apple News+, a subscription news and magazine service; and Apple Pay, a cashless payment service, as well as licenses its intellectual property, and provides other related services. The company serves consumers, and small and mid-sized businesses; and the education, enterprise, and government markets. It sells and delivers third-party applications for its products through the App Store, Mac App Store, and Watch App Store. The company also sells its products through its retail and online stores, and direct sales force; and third-party cellular network carriers, wholesalers, retailers, and resellers. Apple Inc. has a collaboration with Google to develop COVID-19 tracking system for Android and iOS devices. Apple Inc. was founded in 1977 and is headquartered in Cupertino, California.', 'city': 'Cupertino', 'phone': '408-996-1010', 'state': 'CA', 'country': 'United States', 'companyOfficers': [], 'website': 'http://www.apple.com', 'maxAge': 1, 'address1': 'One Apple Park Way', 'industry': 'Consumer Electronics', 'previousClose': 459.63, 'regularMarketOpen': 464.25, 'twoHundredDayAverage': 325.131, 'trailingAnnualDividendYield': 0.0068098255, 'payoutRatio': 0.2373, 'volume24Hr': None, 'regularMarketDayHigh': 464.35, 'navPrice': None, 'averageDailyVolume10Day': 44216516, 'totalAssets': None, 'regularMarketPreviousClose': 459.63, 'fiftyDayAverage': 401.99084, 'trailingAnnualDividendRate': 3.13, 'open': 464.25, 'toCurrency': None, 'averageVolume10days': 44216516, 'expireDate': None, 'yield': None, 'algorithm': None, 'dividendRate': 3.28, 'exDividendDate': 1596758400, 'beta': 1.226373, 'circulatingSupply': None, 'startDate': None, 'regularMarketDayLow': 455.86, 'priceHint': 2, 'currency': 'USD', 'trailingPE': 34.769054, 'regularMarketVolume': 28025209, 'lastMarket': None, 'maxSupply': None, 'openInterest': None, 'marketCap': 1960077033472, 'volumeAllCurrencies': None, 'strikePrice': None, 'averageVolume': 36667309, 'priceToSalesTrailing12Months': 7.157301, 'dayLow': 455.86, 'ask': 460.19, 'ytdReturn': None, 'askSize': 3100, 'volume': 28025209, 'fiftyTwoWeekHigh': 464.35, 'forwardPE': 29.5, 'fromCurrency': None, 'fiveYearAvgDividendYield': 1.56, 'fiftyTwoWeekLow': 201, 'bid': 460, 'tradeable': False, 'dividendYield': 0.0072000003, 'bidSize': 1100, 'dayHigh': 464.35, 'exchange': 'NMS', 'shortName': 'Apple Inc.', 'longName': 'Apple Inc.', 'exchangeTimezoneName': 'America/New_York', 'exchangeTimezoneShortName': 'EDT', 'isEsgPopulated': False, 'gmtOffSetMilliseconds': '-14400000', 'quoteType': 'EQUITY', 'symbol': 'AAPL', 'messageBoardId': 'finmb_24937', 'market': 'us_market', 'annualHoldingsTurnover': None, 'enterpriseToRevenue': 7.264, 'beta3Year': None, 'profitMargins': 0.21334, 'enterpriseToEbitda': 25.286, '52WeekChange': 1.1792641, 'morningStarRiskRating': None, 'forwardEps': 15.54, 'revenueQuarterlyGrowth': None, 'sharesOutstanding': 4275630080, 'fundInceptionDate': None, 'annualReportExpenseRatio': None, 'bookValue': 16.873, 'sharesShort': 26502377, 'sharesPercentSharesOut': 0.0062, 'fundFamily': None, 'lastFiscalYearEnd': 1569628800, 'heldPercentInstitutions': 0.62115, 'netIncomeToCommon': 58424000512, 'trailingEps': 13.185, 'lastDividendValue': None, 'SandP52WeekChange': 0.16599834, 'priceToBook': 27.169443, 'heldPercentInsiders': 0.00066, 'nextFiscalYearEnd': 1632787200, 'mostRecentQuarter': 1593216000, 'shortRatio': 0.77, 'sharesShortPreviousMonthDate': 1593475200, 'floatShares': 4271315610, 'enterpriseValue': 1989239898112, 'threeYearAverageReturn': None, 'lastSplitDate': 1402272000, 'lastSplitFactor': '7:1', 'legalType': None, 'morningStarOverallRating': None, 'earningsQuarterlyGrowth': 0.12, 'dateShortInterest': 1596153600, 'pegRatio': 2.83, 'lastCapGain': None, 'shortPercentOfFloat': 0.0062, 'sharesShortPriorMonth': 33962851, 'category': None, 'fiveYearAverageReturn': None, 'regularMarketPrice': 464.25, 'logo_url': 'https://logo.clearbit.com/apple.com'}\n"
          ],
          "name": "stdout"
        },
        {
          "output_type": "stream",
          "text": [
            "{'zip': '98052-6399', 'sector': 'Technology', 'fullTimeEmployees': 163000, 'longBusinessSummary': 'Microsoft Corporation develops, licenses, and supports software, services, devices, and solutions worldwide. Its Productivity and Business Processes segment offers Office, Exchange, SharePoint, Microsoft Teams, Office 365 Security and Compliance, and Skype for Business, as well as related Client Access Licenses (CAL); Skype, Outlook.com, and OneDrive; LinkedIn that includes Talent, Learning, Sales, and Marketing solutions, as well as premium subscriptions; and Dynamics 365, a set of cloud-based and on-premises business solutions for small and medium businesses, large organizations, and divisions of enterprises. Its Intelligent Cloud segment licenses SQL and Windows Servers, Visual Studio, System Center, and related CALs; GitHub that provides a collaboration platform and code hosting service for developers; and Azure, a cloud platform. It also offers support services and Microsoft consulting services to assist customers in developing, deploying, and managing Microsoft server and desktop solutions; and training and certification to developers and IT professionals on various Microsoft products. Its More Personal Computing segment provides Windows original equipment manufacturer (OEM) licensing and other non-volume licensing of the Windows operating system; Windows Commercial, such as volume licensing of the Windows operating system, Windows cloud services, and other Windows commercial offerings; patent licensing; Windows Internet of Things; and MSN advertising. It also offers Surface, PC accessories, PCs, tablets, gaming and entertainment consoles, and other intelligent devices; Gaming, including Xbox hardware, and Xbox content and services; video games and third-party video game royalties; and Search, including Bing and Microsoft advertising. It sells its products through OEMs, distributors, and resellers; and directly through digital marketplaces, online stores, and retail stores. The company was founded in 1975 and is headquartered in Redmond, Washington.', 'city': 'Redmond', 'phone': '425-882-8080', 'state': 'WA', 'country': 'United States', 'companyOfficers': [], 'website': 'http://www.microsoft.com', 'maxAge': 1, 'address1': 'One Microsoft Way', 'industry': 'Software—Infrastructure', 'previousClose': 208.9, 'regularMarketOpen': 209.6, 'twoHundredDayAverage': 182.85674, 'trailingAnnualDividendYield': 0.009765438, 'payoutRatio': 0.3455, 'volume24Hr': None, 'regularMarketDayHigh': 211.1874, 'navPrice': None, 'averageDailyVolume10Day': 26985866, 'totalAssets': None, 'regularMarketPreviousClose': 208.9, 'fiftyDayAverage': 207.94344, 'trailingAnnualDividendRate': 2.04, 'open': 209.6, 'toCurrency': None, 'averageVolume10days': 26985866, 'expireDate': None, 'yield': None, 'algorithm': None, 'dividendRate': 2.04, 'exDividendDate': 1597795200, 'beta': 0.903846, 'circulatingSupply': None, 'startDate': None, 'regularMarketDayLow': 208.915, 'priceHint': 2, 'currency': 'USD', 'trailingPE': 36.506943, 'regularMarketVolume': 19007626, 'lastMarket': None, 'maxSupply': None, 'openInterest': None, 'marketCap': 1591325360128, 'volumeAllCurrencies': None, 'strikePrice': None, 'averageVolume': 34527501, 'priceToSalesTrailing12Months': 11.126982, 'dayLow': 208.915, 'ask': 210.8, 'ytdReturn': None, 'askSize': 1400, 'volume': 19007626, 'fiftyTwoWeekHigh': 217.64, 'forwardPE': 28.6485, 'fromCurrency': None, 'fiveYearAvgDividendYield': 1.87, 'fiftyTwoWeekLow': 132.52, 'bid': 210.1, 'tradeable': False, 'dividendYield': 0.0097, 'bidSize': 1200, 'dayHigh': 211.1874, 'exchange': 'NMS', 'shortName': 'Microsoft Corporation', 'longName': 'Microsoft Corporation', 'exchangeTimezoneName': 'America/New_York', 'exchangeTimezoneShortName': 'EDT', 'isEsgPopulated': False, 'gmtOffSetMilliseconds': '-14400000', 'quoteType': 'EQUITY', 'symbol': 'MSFT', 'messageBoardId': 'finmb_21835', 'market': 'us_market', 'annualHoldingsTurnover': None, 'enterpriseToRevenue': 10.747, 'beta3Year': None, 'profitMargins': 0.30962, 'enterpriseToEbitda': 23.551, '52WeekChange': 0.53198314, 'morningStarRiskRating': None, 'forwardEps': 7.34, 'revenueQuarterlyGrowth': None, 'sharesOutstanding': 7567649792, 'fundInceptionDate': None, 'annualReportExpenseRatio': None, 'bookValue': 15.626, 'sharesShort': 36472205, 'sharesPercentSharesOut': 0.0047999998, 'fundFamily': None, 'lastFiscalYearEnd': 1593475200, 'heldPercentInstitutions': 0.74093, 'netIncomeToCommon': 44280999936, 'trailingEps': 5.76, 'lastDividendValue': None, 'SandP52WeekChange': 0.16599834, 'priceToBook': 13.457058, 'heldPercentInsiders': 0.014249999, 'nextFiscalYearEnd': 1656547200, 'mostRecentQuarter': 1593475200, 'shortRatio': 1.04, 'sharesShortPreviousMonthDate': 1593475200, 'floatShares': 7456786820, 'enterpriseValue': 1536944111616, 'threeYearAverageReturn': None, 'lastSplitDate': 1045526400, 'lastSplitFactor': '2:1', 'legalType': None, 'morningStarOverallRating': None, 'earningsQuarterlyGrowth': -0.151, 'dateShortInterest': 1596153600, 'pegRatio': 2.17, 'lastCapGain': None, 'shortPercentOfFloat': 0.0049, 'sharesShortPriorMonth': 43132952, 'category': None, 'fiveYearAverageReturn': None, 'regularMarketPrice': 209.6, 'logo_url': 'https://logo.clearbit.com/microsoft.com'}\n",
            "{'previousClose': 336.84, 'regularMarketOpen': 337.94, 'twoHundredDayAverage': 300.90137, 'trailingAnnualDividendYield': None, 'payoutRatio': None, 'volume24Hr': None, 'regularMarketDayHigh': 338.34, 'navPrice': 317.66, 'averageDailyVolume10Day': 48684333, 'totalAssets': 274452152320, 'regularMarketPreviousClose': 336.84, 'fiftyDayAverage': 323.71255, 'trailingAnnualDividendRate': None, 'open': 337.94, 'toCurrency': None, 'averageVolume10days': 48684333, 'expireDate': None, 'yield': 0.0185, 'algorithm': None, 'dividendRate': None, 'exDividendDate': None, 'beta': None, 'circulatingSupply': None, 'startDate': None, 'regularMarketDayLow': 336.8517, 'priceHint': 2, 'currency': 'USD', 'regularMarketVolume': 35480974, 'lastMarket': None, 'maxSupply': None, 'openInterest': None, 'marketCap': None, 'volumeAllCurrencies': None, 'strikePrice': None, 'averageVolume': 81900504, 'priceToSalesTrailing12Months': None, 'dayLow': 336.8517, 'ask': 338.54, 'ytdReturn': None, 'askSize': 1800, 'volume': 35480974, 'fiftyTwoWeekHigh': 339.08, 'forwardPE': None, 'maxAge': 1, 'fromCurrency': None, 'fiveYearAvgDividendYield': None, 'fiftyTwoWeekLow': 218.26, 'bid': 338.4, 'tradeable': False, 'dividendYield': None, 'bidSize': 1100, 'dayHigh': 338.34, 'exchange': 'PCX', 'shortName': 'SPDR S&P 500', 'longName': 'SPDR S&P 500 ETF Trust', 'exchangeTimezoneName': 'America/New_York', 'exchangeTimezoneShortName': 'EDT', 'isEsgPopulated': False, 'gmtOffSetMilliseconds': '-14400000', 'quoteType': 'ETF', 'symbol': 'SPY', 'messageBoardId': 'finmb_6160262', 'market': 'us_market', 'annualHoldingsTurnover': None, 'enterpriseToRevenue': None, 'beta3Year': 1, 'profitMargins': None, 'enterpriseToEbitda': None, '52WeekChange': None, 'morningStarRiskRating': None, 'forwardEps': None, 'revenueQuarterlyGrowth': None, 'fundInceptionDate': 727660800, 'annualReportExpenseRatio': None, 'bookValue': None, 'fundFamily': 'SPDR State Street Global Advisors', 'lastFiscalYearEnd': None, 'netIncomeToCommon': None, 'trailingEps': None, 'lastDividendValue': None, 'SandP52WeekChange': None, 'priceToBook': None, 'nextFiscalYearEnd': None, 'mostRecentQuarter': None, 'enterpriseValue': None, 'threeYearAverageReturn': 0.1159, 'lastSplitDate': None, 'lastSplitFactor': None, 'legalType': 'Exchange Traded Fund', 'morningStarOverallRating': None, 'earningsQuarterlyGrowth': None, 'pegRatio': None, 'lastCapGain': None, 'category': 'Large Blend', 'fiveYearAverageReturn': 0.1109, 'phone': '866-732-8673', 'longBusinessSummary': 'The investment seeks to provide investment results that, before expenses, correspond generally to the price and yield performance of the S&P 500Â® Index.\\n The Trust seeks to achieve its investment objective by holding a portfolio of the common stocks that are included in the index (the â\\x80\\x9cPortfolioâ\\x80\\x9d), with the weight of each stock in the Portfolio substantially corresponding to the weight of such stock in the index.', 'companyOfficers': [], 'regularMarketPrice': 337.94, 'logo_url': ''}\n"
          ],
          "name": "stdout"
        },
        {
          "output_type": "stream",
          "text": [
            "{'zip': '10017', 'sector': 'Healthcare', 'fullTimeEmployees': 88300, 'longBusinessSummary': 'Pfizer Inc. develops, manufactures, and sells healthcare products worldwide. It offers medicines and vaccines in various therapeutic areas, including internal medicine, such as cardiovascular metabolic and pain under the Eliquis, Chantix/Champix, and Premarin family brands; oncology, such as biologics, small molecules, immunotherapies, and biosimilars under the Ibrance, Sutent, Xtandi, Xalkori, Inlyta, Braftovi + Mektovi brands; and sterile injectable and anti-infective medicines under the Sulperazon, Medrol, Vfend, and Zithromax brands. The company also provides medicines and vaccines in various therapeutic areas, such as pneumococcal disease, meningococcal disease, and tick-borne encephalitis under the Prevnar 13/Prevenar 13 (pediatric/adult), FSME-IMMUN, Nimenrix, and Trumenba brands; biosimilars for chronic immune and inflammatory diseases under the Xeljanz, Enbrel, Inflectra, and Eucrisa brands; and amyloidosis, hemophilia, and endocrine diseases under the Vyndaqel/Vyndamax, BeneFIX, Genotropin, and Refacto AF/Xyntha brands. In addition, the company is involved in the contract manufacturing business. It serves wholesalers, retailers, hospitals, clinics, government agencies, pharmacies, and individual provider offices, as well as disease control and prevention centers. The company has collaboration and/or co-promotion agreements with Bristol-Myers Squibb Company and Astellas Pharma US, Inc.; licensing agreement with Akcea Therapeutics, Inc; strategic alliance with Verily Life Sciences LLC; collaboration agreements with Merck KGaA and Valneva SE; clinical trial collaboration and supply agreement with IDEAYA Biosciences, Inc.; material transfer and collaboration agreement with BioNTech SE to co-develop COVID-19 vaccine; clinical supply collaboration with Jiangsu Alphamab Biopharmaceuticals Co., Ltd; and research collaboration and license agreement with BioInvent International AB. Pfizer Inc. was founded in 1849 and is headquartered in New York, New York.', 'city': 'New York', 'phone': '212 733 2323', 'state': 'NY', 'country': 'United States', 'companyOfficers': [], 'website': 'http://www.pfizer.com', 'maxAge': 1, 'address1': '235 East 42nd Street', 'industry': 'Drug Manufacturers—General', 'previousClose': 38.06, 'regularMarketOpen': 38.04, 'twoHundredDayAverage': 35.59326, 'trailingAnnualDividendYield': 0.03888597, 'payoutRatio': 0.585, 'volume24Hr': None, 'regularMarketDayHigh': 38.41, 'navPrice': None, 'averageDailyVolume10Day': 16916433, 'totalAssets': None, 'regularMarketPreviousClose': 38.06, 'fiftyDayAverage': 36.658287, 'trailingAnnualDividendRate': 1.48, 'open': 38.04, 'toCurrency': None, 'averageVolume10days': 16916433, 'expireDate': None, 'yield': None, 'algorithm': None, 'dividendRate': 1.52, 'exDividendDate': 1596067200, 'beta': 0.733516, 'circulatingSupply': None, 'startDate': None, 'regularMarketDayLow': 37.945, 'priceHint': 2, 'currency': 'USD', 'trailingPE': 15.182105, 'regularMarketVolume': 16042763, 'lastMarket': None, 'maxSupply': None, 'openInterest': None, 'marketCap': 213106327552, 'volumeAllCurrencies': None, 'strikePrice': None, 'averageVolume': 30902954, 'priceToSalesTrailing12Months': 4.3316936, 'dayLow': 37.945, 'ask': 38.36, 'ytdReturn': None, 'askSize': 3200, 'volume': 16042763, 'fiftyTwoWeekHigh': 40.97, 'forwardPE': 11.482036, 'fromCurrency': None, 'fiveYearAvgDividendYield': 3.58, 'fiftyTwoWeekLow': 27.88, 'bid': 38.3, 'tradeable': False, 'dividendYield': 0.0396, 'bidSize': 3100, 'dayHigh': 38.41, 'exchange': 'NYQ', 'shortName': 'Pfizer, Inc.', 'longName': 'Pfizer Inc.', 'exchangeTimezoneName': 'America/New_York', 'exchangeTimezoneShortName': 'EDT', 'isEsgPopulated': False, 'gmtOffSetMilliseconds': '-14400000', 'quoteType': 'EQUITY', 'symbol': 'PFE', 'messageBoardId': 'finmb_162270', 'market': 'us_market', 'annualHoldingsTurnover': None, 'enterpriseToRevenue': 5.4, 'beta3Year': None, 'profitMargins': 0.28807, 'enterpriseToEbitda': 13.246, '52WeekChange': 0.108061194, 'morningStarRiskRating': None, 'forwardEps': 3.34, 'revenueQuarterlyGrowth': None, 'sharesOutstanding': 5556879872, 'fundInceptionDate': None, 'annualReportExpenseRatio': None, 'bookValue': 11.584, 'sharesShort': 53492478, 'sharesPercentSharesOut': 0.0095999995, 'fundFamily': None, 'lastFiscalYearEnd': 1577750400, 'heldPercentInstitutions': 0.72556996, 'netIncomeToCommon': 14167000064, 'trailingEps': 2.526, 'lastDividendValue': None, 'SandP52WeekChange': 0.16599834, 'priceToBook': 3.3106008, 'heldPercentInsiders': 0.00041, 'nextFiscalYearEnd': 1640908800, 'mostRecentQuarter': 1593302400, 'shortRatio': 1.53, 'sharesShortPreviousMonthDate': 1593475200, 'floatShares': 5550989514, 'enterpriseValue': 265651339264, 'threeYearAverageReturn': None, 'lastSplitDate': 930787200, 'lastSplitFactor': '3:1', 'legalType': None, 'morningStarOverallRating': None, 'earningsQuarterlyGrowth': -0.321, 'dateShortInterest': 1596153600, 'pegRatio': 2.44, 'lastCapGain': None, 'shortPercentOfFloat': 0.0095999995, 'sharesShortPriorMonth': 51486098, 'category': None, 'fiveYearAverageReturn': None, 'regularMarketPrice': 38.04, 'logo_url': 'https://logo.clearbit.com/pfizer.com'}\n"
          ],
          "name": "stdout"
        }
      ]
    },
    {
      "cell_type": "code",
      "metadata": {
        "id": "ZLiXJ681nvaF",
        "colab_type": "code",
        "colab": {},
        "outputId": "7660965d-e929-4a81-f5aa-e15e2fcff94e"
      },
      "source": [
        "print(old.head())\n",
        "    "
      ],
      "execution_count": null,
      "outputs": [
        {
          "output_type": "stream",
          "text": [
            "             Open   High    Low  Close    Volume  Dividends  Stock Splits\n",
            "Date                                                                     \n",
            "2009-12-31  12.35  12.41  12.22  12.22  25676600        0.0             0\n",
            "2010-01-04  12.27  12.72  12.25  12.71  52086000        0.0             0\n",
            "2010-01-05  12.71  12.71  12.46  12.53  43372800        0.0             0\n",
            "2010-01-06  12.53  12.63  12.43  12.49  41405100        0.0             0\n",
            "2010-01-07  12.52  12.54  12.40  12.44  39428000        0.0             0\n"
          ],
          "name": "stdout"
        }
      ]
    },
    {
      "cell_type": "code",
      "metadata": {
        "id": "Y2FI2l1OnvaI",
        "colab_type": "code",
        "colab": {},
        "outputId": "71982ad0-fed2-4343-895b-046cf450ef2d"
      },
      "source": [
        "print(res.actions)\n",
        "print(res.calendar)\n",
        "print(old)\n",
        "old = old.reset_index()\n",
        "for i in ['Open', 'High', 'Close', 'Low']:\n",
        "    old[i] = old[i].astype('float64')\n",
        "    print(old)\n",
        "    t += 1"
      ],
      "execution_count": null,
      "outputs": [
        {
          "output_type": "stream",
          "text": [
            "            Dividends  Stock Splits\n",
            "Date                               \n",
            "2010-02-03       0.18           0.0\n",
            "2010-05-05       0.18           0.0\n",
            "2010-08-04       0.18           0.0\n",
            "2010-11-04       0.18           0.0\n",
            "2011-02-02       0.20           0.0\n",
            "2011-05-11       0.20           0.0\n",
            "2011-08-03       0.20           0.0\n",
            "2011-11-08       0.20           0.0\n",
            "2012-02-01       0.22           0.0\n",
            "2012-05-09       0.22           0.0\n",
            "2012-08-01       0.22           0.0\n",
            "2012-11-07       0.22           0.0\n",
            "2013-01-30       0.24           0.0\n",
            "2013-05-08       0.24           0.0\n",
            "2013-07-31       0.24           0.0\n",
            "2013-11-06       0.24           0.0\n",
            "2014-02-05       0.26           0.0\n",
            "2014-05-07       0.26           0.0\n",
            "2014-07-30       0.26           0.0\n",
            "2014-11-05       0.26           0.0\n",
            "2015-02-04       0.28           0.0\n",
            "2015-05-06       0.28           0.0\n",
            "2015-08-05       0.28           0.0\n",
            "2015-11-04       0.28           0.0\n",
            "2016-02-03       0.30           0.0\n",
            "2016-05-11       0.30           0.0\n",
            "2016-08-03       0.30           0.0\n",
            "2016-11-08       0.30           0.0\n",
            "2017-02-01       0.32           0.0\n",
            "2017-05-10       0.32           0.0\n",
            "2017-08-02       0.32           0.0\n",
            "2017-11-09       0.32           0.0\n",
            "2018-02-01       0.34           0.0\n",
            "2018-05-10       0.34           0.0\n",
            "2018-08-02       0.34           0.0\n",
            "2018-11-08       0.34           0.0\n",
            "2019-01-31       0.36           0.0\n",
            "2019-05-09       0.36           0.0\n",
            "2019-08-01       0.36           0.0\n",
            "2019-11-07       0.36           0.0\n",
            "2020-01-30       0.38           0.0\n",
            "2020-05-07       0.38           0.0\n",
            "                                    0                    1\n",
            "Earnings Date     2020-10-27 00:00:00  2020-11-02 00:00:00\n",
            "Earnings Average                 0.71                 0.71\n",
            "Earnings Low                      0.6                  0.6\n",
            "Earnings High                    0.79                 0.79\n",
            "Revenue Average           12289000000          12289000000\n",
            "Revenue Low               11837000000          11837000000\n",
            "Revenue High              12754000000          12754000000\n",
            "             Open   High    Low  Close    Volume  Dividends  Stock Splits\n",
            "Date                                                                     \n",
            "2009-12-31  12.35  12.41  12.22  12.22  25676600        0.0             0\n",
            "2010-01-04  12.27  12.72  12.25  12.71  52086000        0.0             0\n",
            "2010-01-05  12.71  12.71  12.46  12.53  43372800        0.0             0\n",
            "2010-01-06  12.53  12.63  12.43  12.49  41405100        0.0             0\n",
            "2010-01-07  12.52  12.54  12.40  12.44  39428000        0.0             0\n",
            "...           ...    ...    ...    ...       ...        ...           ...\n",
            "2020-07-14  35.03  35.08  34.54  34.89  31170900        0.0             0\n",
            "2020-07-15  35.64  35.65  35.13  35.37  24947300        0.0             0\n",
            "2020-07-16  35.26  35.30  34.92  35.26  17478000        0.0             0\n",
            "2020-07-17  35.51  35.98  35.38  35.90  22151200        0.0             0\n",
            "2020-07-20  37.13  37.26  35.97  36.15  34929500        0.0             0\n",
            "\n",
            "[2655 rows x 7 columns]\n",
            "           Date   Open   High    Low  Close    Volume  Dividends  Stock Splits\n",
            "0    2009-12-31  12.35  12.41  12.22  12.22  25676600        0.0             0\n",
            "1    2010-01-04  12.27  12.72  12.25  12.71  52086000        0.0             0\n",
            "2    2010-01-05  12.71  12.71  12.46  12.53  43372800        0.0             0\n",
            "3    2010-01-06  12.53  12.63  12.43  12.49  41405100        0.0             0\n",
            "4    2010-01-07  12.52  12.54  12.40  12.44  39428000        0.0             0\n",
            "...         ...    ...    ...    ...    ...       ...        ...           ...\n",
            "2650 2020-07-14  35.03  35.08  34.54  34.89  31170900        0.0             0\n",
            "2651 2020-07-15  35.64  35.65  35.13  35.37  24947300        0.0             0\n",
            "2652 2020-07-16  35.26  35.30  34.92  35.26  17478000        0.0             0\n",
            "2653 2020-07-17  35.51  35.98  35.38  35.90  22151200        0.0             0\n",
            "2654 2020-07-20  37.13  37.26  35.97  36.15  34929500        0.0             0\n",
            "\n",
            "[2655 rows x 8 columns]\n",
            "           Date   Open   High    Low  Close    Volume  Dividends  Stock Splits\n",
            "0    2009-12-31  12.35  12.41  12.22  12.22  25676600        0.0             0\n",
            "1    2010-01-04  12.27  12.72  12.25  12.71  52086000        0.0             0\n",
            "2    2010-01-05  12.71  12.71  12.46  12.53  43372800        0.0             0\n",
            "3    2010-01-06  12.53  12.63  12.43  12.49  41405100        0.0             0\n",
            "4    2010-01-07  12.52  12.54  12.40  12.44  39428000        0.0             0\n",
            "...         ...    ...    ...    ...    ...       ...        ...           ...\n",
            "2650 2020-07-14  35.03  35.08  34.54  34.89  31170900        0.0             0\n",
            "2651 2020-07-15  35.64  35.65  35.13  35.37  24947300        0.0             0\n",
            "2652 2020-07-16  35.26  35.30  34.92  35.26  17478000        0.0             0\n",
            "2653 2020-07-17  35.51  35.98  35.38  35.90  22151200        0.0             0\n",
            "2654 2020-07-20  37.13  37.26  35.97  36.15  34929500        0.0             0\n",
            "\n",
            "[2655 rows x 8 columns]\n",
            "           Date   Open   High    Low  Close    Volume  Dividends  Stock Splits\n",
            "0    2009-12-31  12.35  12.41  12.22  12.22  25676600        0.0             0\n",
            "1    2010-01-04  12.27  12.72  12.25  12.71  52086000        0.0             0\n",
            "2    2010-01-05  12.71  12.71  12.46  12.53  43372800        0.0             0\n",
            "3    2010-01-06  12.53  12.63  12.43  12.49  41405100        0.0             0\n",
            "4    2010-01-07  12.52  12.54  12.40  12.44  39428000        0.0             0\n",
            "...         ...    ...    ...    ...    ...       ...        ...           ...\n",
            "2650 2020-07-14  35.03  35.08  34.54  34.89  31170900        0.0             0\n",
            "2651 2020-07-15  35.64  35.65  35.13  35.37  24947300        0.0             0\n",
            "2652 2020-07-16  35.26  35.30  34.92  35.26  17478000        0.0             0\n",
            "2653 2020-07-17  35.51  35.98  35.38  35.90  22151200        0.0             0\n",
            "2654 2020-07-20  37.13  37.26  35.97  36.15  34929500        0.0             0\n",
            "\n",
            "[2655 rows x 8 columns]\n",
            "           Date   Open   High    Low  Close    Volume  Dividends  Stock Splits\n",
            "0    2009-12-31  12.35  12.41  12.22  12.22  25676600        0.0             0\n",
            "1    2010-01-04  12.27  12.72  12.25  12.71  52086000        0.0             0\n",
            "2    2010-01-05  12.71  12.71  12.46  12.53  43372800        0.0             0\n",
            "3    2010-01-06  12.53  12.63  12.43  12.49  41405100        0.0             0\n",
            "4    2010-01-07  12.52  12.54  12.40  12.44  39428000        0.0             0\n",
            "...         ...    ...    ...    ...    ...       ...        ...           ...\n",
            "2650 2020-07-14  35.03  35.08  34.54  34.89  31170900        0.0             0\n",
            "2651 2020-07-15  35.64  35.65  35.13  35.37  24947300        0.0             0\n",
            "2652 2020-07-16  35.26  35.30  34.92  35.26  17478000        0.0             0\n",
            "2653 2020-07-17  35.51  35.98  35.38  35.90  22151200        0.0             0\n",
            "2654 2020-07-20  37.13  37.26  35.97  36.15  34929500        0.0             0\n",
            "\n",
            "[2655 rows x 8 columns]\n"
          ],
          "name": "stdout"
        }
      ]
    },
    {
      "cell_type": "code",
      "metadata": {
        "id": "21jBzbX2nvaK",
        "colab_type": "code",
        "colab": {},
        "outputId": "f4c11860-d1e7-4972-c5c3-264bfd7885c6"
      },
      "source": [
        "tickers=['ap','fb','ibm','bp','am']\n",
        "info=yf.download(tickers,start='2020-08-01',end='2020-08-15')\n",
        "info.to_csv(\"data.csv\")"
      ],
      "execution_count": null,
      "outputs": [
        {
          "output_type": "stream",
          "text": [
            "[*********************100%***********************]  5 of 5 completed\n"
          ],
          "name": "stdout"
        }
      ]
    },
    {
      "cell_type": "code",
      "metadata": {
        "id": "NAfzSkxNnvaN",
        "colab_type": "code",
        "colab": {},
        "outputId": "b062b60d-6778-4744-9910-7e708fccb1b0"
      },
      "source": [
        "def pricetracker():\n",
        "    url = 'https://finance.yahoo.com/quote/AAPL?p=AAPL&.tsrc=fin-srch'\n",
        "    response = requests.get(url)\n",
        "    # print(response.text)\n",
        "    soup = BeautifulSoup(response.text, 'lxml')\n",
        "    # print(soup)\n",
        "    price = soup.find_all('div', {'class': \"My(6px) Pos(r) smartphone_Mt(6px)\"})[0].find('span').text\n",
        "    print(\"Price of AAPL Stock :->  \"+price)\n",
        "\n",
        "while True:\n",
        "    pricetracker()\n"
      ],
      "execution_count": null,
      "outputs": [
        {
          "output_type": "stream",
          "text": [
            "Price of AAPL Stock :->  458.43\n",
            "Price of AAPL Stock :->  458.43\n",
            "Price of AAPL Stock :->  458.43\n",
            "Price of AAPL Stock :->  458.43\n",
            "Price of AAPL Stock :->  458.43\n",
            "Price of AAPL Stock :->  458.43\n",
            "Price of AAPL Stock :->  458.43\n",
            "Price of AAPL Stock :->  458.43\n",
            "Price of AAPL Stock :->  458.43\n",
            "Price of AAPL Stock :->  458.43\n",
            "Price of AAPL Stock :->  458.43\n",
            "Price of AAPL Stock :->  458.43\n",
            "Price of AAPL Stock :->  458.43\n",
            "Price of AAPL Stock :->  458.43\n",
            "Price of AAPL Stock :->  458.43\n"
          ],
          "name": "stdout"
        }
      ]
    }
  ]
}