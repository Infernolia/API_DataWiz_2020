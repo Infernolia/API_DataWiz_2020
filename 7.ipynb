{
  "nbformat": 4,
  "nbformat_minor": 0,
  "metadata": {
    "kernelspec": {
      "display_name": "Python 3",
      "language": "python",
      "name": "python3"
    },
    "language_info": {
      "codemirror_mode": {
        "name": "ipython",
        "version": 3
      },
      "file_extension": ".py",
      "mimetype": "text/x-python",
      "name": "python",
      "nbconvert_exporter": "python",
      "pygments_lexer": "ipython3",
      "version": "3.7.3"
    },
    "colab": {
      "name": "DataWiz-Task2.ipynb",
      "provenance": []
    }
  },
  "cells": [
    {
      "cell_type": "code",
      "metadata": {
        "id": "reHTR07en-Hd",
        "colab_type": "code",
        "colab": {},
        "outputId": "b0f41d67-d10b-4179-8fdc-2115cdac4d9c"
      },
      "source": [
        "!pip install pandas-datareader\n"
      ],
      "execution_count": null,
      "outputs": [
        {
          "output_type": "stream",
          "text": [
            "Collecting pandas-datareader\n",
            "  Downloading https://files.pythonhosted.org/packages/22/f1/a02eea03628865c3d4c29849cda8c8a73f43358048aee47d79dfbfa6c6c3/pandas_datareader-0.9.0-py3-none-any.whl (107kB)\n",
            "Requirement already satisfied: requests>=2.19.0 in c:\\users\\lenovo\\appdata\\local\\programs\\python\\python37\\lib\\site-packages (from pandas-datareader) (2.23.0)\n",
            "Collecting lxml (from pandas-datareader)\n",
            "  Downloading https://files.pythonhosted.org/packages/bd/a3/4b377aaf02ea39585b81ad9f630226e296d983e9a94d7b78a4bc5e27226d/lxml-4.5.2-cp37-cp37m-win_amd64.whl (3.5MB)\n"
          ],
          "name": "stdout"
        },
        {
          "output_type": "stream",
          "text": [
            "You are using pip version 19.0.3, however version 20.2.2 is available.\n",
            "You should consider upgrading via the 'python -m pip install --upgrade pip' command.\n"
          ],
          "name": "stderr"
        },
        {
          "output_type": "stream",
          "text": [
            "Requirement already satisfied: pandas>=0.23 in c:\\users\\lenovo\\appdata\\local\\programs\\python\\python37\\lib\\site-packages (from pandas-datareader) (1.0.3)\n",
            "Requirement already satisfied: urllib3!=1.25.0,!=1.25.1,<1.26,>=1.21.1 in c:\\users\\lenovo\\appdata\\local\\programs\\python\\python37\\lib\\site-packages (from requests>=2.19.0->pandas-datareader) (1.25.9)\n",
            "Requirement already satisfied: chardet<4,>=3.0.2 in c:\\users\\lenovo\\appdata\\local\\programs\\python\\python37\\lib\\site-packages (from requests>=2.19.0->pandas-datareader) (3.0.4)\n",
            "Requirement already satisfied: certifi>=2017.4.17 in c:\\users\\lenovo\\appdata\\local\\programs\\python\\python37\\lib\\site-packages (from requests>=2.19.0->pandas-datareader) (2020.4.5.2)\n",
            "Requirement already satisfied: idna<3,>=2.5 in c:\\users\\lenovo\\appdata\\local\\programs\\python\\python37\\lib\\site-packages (from requests>=2.19.0->pandas-datareader) (2.9)\n",
            "Requirement already satisfied: pytz>=2017.2 in c:\\users\\lenovo\\appdata\\local\\programs\\python\\python37\\lib\\site-packages (from pandas>=0.23->pandas-datareader) (2020.1)\n",
            "Requirement already satisfied: numpy>=1.13.3 in c:\\users\\lenovo\\appdata\\local\\programs\\python\\python37\\lib\\site-packages (from pandas>=0.23->pandas-datareader) (1.18.4)\n",
            "Requirement already satisfied: python-dateutil>=2.6.1 in c:\\users\\lenovo\\appdata\\local\\programs\\python\\python37\\lib\\site-packages (from pandas>=0.23->pandas-datareader) (2.8.1)\n",
            "Requirement already satisfied: six>=1.5 in c:\\users\\lenovo\\appdata\\local\\programs\\python\\python37\\lib\\site-packages (from python-dateutil>=2.6.1->pandas>=0.23->pandas-datareader) (1.14.0)\n",
            "Installing collected packages: lxml, pandas-datareader\n",
            "Successfully installed lxml-4.5.2 pandas-datareader-0.9.0\n"
          ],
          "name": "stdout"
        }
      ]
    },
    {
      "cell_type": "code",
      "metadata": {
        "id": "npig7qJLn-Hh",
        "colab_type": "code",
        "colab": {},
        "outputId": "8f2bff35-9911-4d28-ba8a-8cba8ad7ccc4"
      },
      "source": [
        "!pip install datetime\n"
      ],
      "execution_count": null,
      "outputs": [
        {
          "output_type": "stream",
          "text": [
            "Collecting datetime"
          ],
          "name": "stdout"
        },
        {
          "output_type": "stream",
          "text": [
            "You are using pip version 19.0.3, however version 20.2.2 is available.\n",
            "You should consider upgrading via the 'python -m pip install --upgrade pip' command.\n"
          ],
          "name": "stderr"
        },
        {
          "output_type": "stream",
          "text": [
            "\n",
            "  Downloading https://files.pythonhosted.org/packages/73/22/a5297f3a1f92468cc737f8ce7ba6e5f245fcfafeae810ba37bd1039ea01c/DateTime-4.3-py2.py3-none-any.whl (60kB)\n",
            "Collecting zope.interface (from datetime)\n",
            "  Downloading https://files.pythonhosted.org/packages/3f/f9/af181babed312b9e21271dbfd7ec0815f822a12aaa2fe472d98e62e5bac3/zope.interface-5.1.0-cp37-cp37m-win_amd64.whl (194kB)\n",
            "Requirement already satisfied: pytz in c:\\users\\lenovo\\appdata\\local\\programs\\python\\python37\\lib\\site-packages (from datetime) (2020.1)\n",
            "Requirement already satisfied: setuptools in c:\\users\\lenovo\\appdata\\local\\programs\\python\\python37\\lib\\site-packages (from zope.interface->datetime) (40.8.0)\n",
            "Installing collected packages: zope.interface, datetime\n",
            "Successfully installed datetime-4.3 zope.interface-5.1.0\n"
          ],
          "name": "stdout"
        }
      ]
    },
    {
      "cell_type": "code",
      "metadata": {
        "id": "reMsZ_iOn-Hj",
        "colab_type": "code",
        "colab": {},
        "outputId": "3c169d75-61b6-4145-9033-8918bf5dc839"
      },
      "source": [
        "!pip install yahoofinance"
      ],
      "execution_count": null,
      "outputs": [
        {
          "output_type": "stream",
          "text": [
            "Collecting yahoofinance\n",
            "  Downloading https://files.pythonhosted.org/packages/b2/7b/a669ed5e629a665a81f1c456b4d8bb45929913a4ddb34ec2c2eef10f9a37/yahoofinance-0.0.2-py3-none-any.whl\n",
            "Requirement already satisfied: pandas>=0.23.4 in c:\\users\\lenovo\\appdata\\local\\programs\\python\\python37\\lib\\site-packages (from yahoofinance) (1.0.3)\n",
            "Requirement already satisfied: requests>=2.20.1 in c:\\users\\lenovo\\appdata\\local\\programs\\python\\python37\\lib\\site-packages (from yahoofinance) (2.23.0)\n",
            "Collecting beautifulsoup4>=4.6.3 (from yahoofinance)\n",
            "  Downloading https://files.pythonhosted.org/packages/66/25/ff030e2437265616a1e9b25ccc864e0371a0bc3adb7c5a404fd661c6f4f6/beautifulsoup4-4.9.1-py3-none-any.whl (115kB)\n",
            "Requirement already satisfied: pytz>=2017.2 in c:\\users\\lenovo\\appdata\\local\\programs\\python\\python37\\lib\\site-packages (from pandas>=0.23.4->yahoofinance) (2020.1)\n",
            "Requirement already satisfied: numpy>=1.13.3 in c:\\users\\lenovo\\appdata\\local\\programs\\python\\python37\\lib\\site-packages (from pandas>=0.23.4->yahoofinance) (1.18.4)\n",
            "Requirement already satisfied: python-dateutil>=2.6.1 in c:\\users\\lenovo\\appdata\\local\\programs\\python\\python37\\lib\\site-packages (from pandas>=0.23.4->yahoofinance) (2.8.1)\n",
            "Requirement already satisfied: urllib3!=1.25.0,!=1.25.1,<1.26,>=1.21.1 in c:\\users\\lenovo\\appdata\\local\\programs\\python\\python37\\lib\\site-packages (from requests>=2.20.1->yahoofinance) (1.25.9)\n",
            "Requirement already satisfied: idna<3,>=2.5 in c:\\users\\lenovo\\appdata\\local\\programs\\python\\python37\\lib\\site-packages (from requests>=2.20.1->yahoofinance) (2.9)\n",
            "Requirement already satisfied: certifi>=2017.4.17 in c:\\users\\lenovo\\appdata\\local\\programs\\python\\python37\\lib\\site-packages (from requests>=2.20.1->yahoofinance) (2020.4.5.2)\n",
            "Requirement already satisfied: chardet<4,>=3.0.2 in c:\\users\\lenovo\\appdata\\local\\programs\\python\\python37\\lib\\site-packages (from requests>=2.20.1->yahoofinance) (3.0.4)\n",
            "Collecting soupsieve>1.2 (from beautifulsoup4>=4.6.3->yahoofinance)\n",
            "  Downloading https://files.pythonhosted.org/packages/6f/8f/457f4a5390eeae1cc3aeab89deb7724c965be841ffca6cfca9197482e470/soupsieve-2.0.1-py3-none-any.whl\n",
            "Requirement already satisfied: six>=1.5 in c:\\users\\lenovo\\appdata\\local\\programs\\python\\python37\\lib\\site-packages (from python-dateutil>=2.6.1->pandas>=0.23.4->yahoofinance) (1.14.0)\n",
            "Installing collected packages: soupsieve, beautifulsoup4, yahoofinance\n",
            "Successfully installed beautifulsoup4-4.9.1 soupsieve-2.0.1 yahoofinance-0.0.2\n"
          ],
          "name": "stdout"
        },
        {
          "output_type": "stream",
          "text": [
            "You are using pip version 19.0.3, however version 20.2.2 is available.\n",
            "You should consider upgrading via the 'python -m pip install --upgrade pip' command.\n"
          ],
          "name": "stderr"
        }
      ]
    },
    {
      "cell_type": "code",
      "metadata": {
        "id": "Q8lIYtVzn-Hm",
        "colab_type": "code",
        "colab": {},
        "outputId": "2c01bf4e-4fbe-4568-cf74-01883dbb28ab"
      },
      "source": [
        "pip install yahooquery"
      ],
      "execution_count": null,
      "outputs": [
        {
          "output_type": "stream",
          "text": [
            "Collecting yahooquery\n",
            "  Using cached https://files.pythonhosted.org/packages/04/03/7c1e84fbb2ce7edc9ed79b135b4dc621d494d7245592302bd49b33814f78/yahooquery-2.2.6.tar.gz\n",
            "Requirement already satisfied: lxml==4.5.0 in c:\\users\\lenovo\\appdata\\local\\programs\\python\\python37\\lib\\site-packages (from yahooquery) (4.5.0)\n",
            "Requirement already satisfied: pandas>=0.24 in c:\\users\\lenovo\\appdata\\local\\programs\\python\\python37\\lib\\site-packages (from yahooquery) (1.0.3)Note: you may need to restart the kernel to use updated packages.\n",
            "\n"
          ],
          "name": "stdout"
        },
        {
          "output_type": "stream",
          "text": [
            "You are using pip version 19.0.3, however version 20.2.2 is available.\n",
            "You should consider upgrading via the 'python -m pip install --upgrade pip' command.\n"
          ],
          "name": "stderr"
        },
        {
          "output_type": "stream",
          "text": [
            "Collecting requests-futures==1.0.0 (from yahooquery)\n",
            "  Using cached https://files.pythonhosted.org/packages/47/c4/fd48d1ac5110a5457c71ac7cc4caa93da10a80b8de71112430e439bdee22/requests-futures-1.0.0.tar.gz\n",
            "Collecting selenium==3.141.0 (from yahooquery)\n",
            "  Using cached https://files.pythonhosted.org/packages/80/d6/4294f0b4bce4de0abf13e17190289f9d0613b0a44e5dd6a7f5ca98459853/selenium-3.141.0-py2.py3-none-any.whl\n",
            "Requirement already satisfied: pytz>=2017.2 in c:\\users\\lenovo\\appdata\\local\\programs\\python\\python37\\lib\\site-packages (from pandas>=0.24->yahooquery) (2020.1)\n",
            "Requirement already satisfied: numpy>=1.13.3 in c:\\users\\lenovo\\appdata\\local\\programs\\python\\python37\\lib\\site-packages (from pandas>=0.24->yahooquery) (1.18.4)\n",
            "Requirement already satisfied: python-dateutil>=2.6.1 in c:\\users\\lenovo\\appdata\\local\\programs\\python\\python37\\lib\\site-packages (from pandas>=0.24->yahooquery) (2.8.1)\n",
            "Requirement already satisfied: requests>=1.2.0 in c:\\users\\lenovo\\appdata\\local\\programs\\python\\python37\\lib\\site-packages (from requests-futures==1.0.0->yahooquery) (2.23.0)\n",
            "Requirement already satisfied: urllib3 in c:\\users\\lenovo\\appdata\\local\\programs\\python\\python37\\lib\\site-packages (from selenium==3.141.0->yahooquery) (1.25.9)\n",
            "Requirement already satisfied: six>=1.5 in c:\\users\\lenovo\\appdata\\local\\programs\\python\\python37\\lib\\site-packages (from python-dateutil>=2.6.1->pandas>=0.24->yahooquery) (1.14.0)\n",
            "Requirement already satisfied: chardet<4,>=3.0.2 in c:\\users\\lenovo\\appdata\\local\\programs\\python\\python37\\lib\\site-packages (from requests>=1.2.0->requests-futures==1.0.0->yahooquery) (3.0.4)\n",
            "Requirement already satisfied: certifi>=2017.4.17 in c:\\users\\lenovo\\appdata\\local\\programs\\python\\python37\\lib\\site-packages (from requests>=1.2.0->requests-futures==1.0.0->yahooquery) (2020.4.5.2)\n",
            "Requirement already satisfied: idna<3,>=2.5 in c:\\users\\lenovo\\appdata\\local\\programs\\python\\python37\\lib\\site-packages (from requests>=1.2.0->requests-futures==1.0.0->yahooquery) (2.9)\n",
            "Installing collected packages: requests-futures, selenium, yahooquery\n",
            "  Running setup.py install for requests-futures: started\n",
            "    Running setup.py install for requests-futures: finished with status 'done'\n",
            "  Running setup.py install for yahooquery: started\n",
            "    Running setup.py install for yahooquery: finished with status 'done'\n",
            "Successfully installed requests-futures-1.0.0 selenium-3.141.0 yahooquery-2.2.6\n"
          ],
          "name": "stdout"
        }
      ]
    },
    {
      "cell_type": "code",
      "metadata": {
        "id": "ONtGIY4On-Ho",
        "colab_type": "code",
        "colab": {}
      },
      "source": [
        "from yahooquery import Ticker\n",
        "import pandas as pd\n",
        "import numpy  as np\n",
        "from yahoofinance import HistoricalPrices\n",
        "\n",
        "amzn = HistoricalPrices('AMZN', '2019-1-1', '2019-12-31')\n",
        "amzn.to_csv('amzn.csv')\n",
        "amzn_df = pd.read_csv('amzn.csv')\n",
        "amzn_df.drop(['Adj Close', 'Volume'], axis = 1, inplace = True)\n",
        "amzn_df.rename(columns = {'Open':'Amazon Open', 'High':'Amazon High','Low':'Amazon Low', 'Close':'Amazon Close'}, inplace = True)\n",
        "\n",
        "\n",
        "aapl = HistoricalPrices('AAPL', '2019-1-1', '2019-12-31')\n",
        "aapl.to_csv('aapl.csv')\n",
        "aapl_df = pd.read_csv('aapl.csv')\n",
        "aapl_df.drop(['Adj Close', 'Volume', 'Date'], axis = 1, inplace = True)\n",
        "aapl_df.rename(columns = {'Open':'Apple Open', 'High':'Apple High','Low':'Apple Low', 'Close':'Apple Close'}, inplace = True)\n",
        "\n",
        "\n",
        "msft = HistoricalPrices('MSFT', '2019-1-1', '2019-12-31')\n",
        "msft.to_csv('msft.csv')\n",
        "msft_df = pd.read_csv('msft.csv')\n",
        "msft_df.drop(['Adj Close', 'Volume', 'Date'], axis = 1, inplace = True)\n",
        "msft_df.rename(columns = {'Open':'Microsoft Open', 'High':'Microsoft High','Low':'Microsoft Low', 'Close':'Microsoft Close'}, inplace = True)\n",
        "\n",
        "\n",
        "googl = HistoricalPrices('GOOGL', '2019-1-1', '2019-12-31')\n",
        "googl.to_csv('googl.csv')\n",
        "googl_df = pd.read_csv('googl.csv')\n",
        "googl_df.drop(['Adj Close', 'Volume', 'Date'], axis = 1, inplace = True)\n",
        "googl_df.rename(columns = {'Open':'Google Open', 'High':'Google High','Low':'Google Low', 'Close':'Google Close'}, inplace = True)\n",
        "\n",
        "\n",
        "fb = HistoricalPrices('FB', '2019-1-1', '2019-12-31')\n",
        "fb.to_csv('fb.csv')\n",
        "fb_df = pd.read_csv('fb.csv')\n",
        "fb_df.drop(['Adj Close', 'Volume', 'Date'], axis = 1, inplace = True)\n",
        "fb_df.rename(columns = {'Open':'FB Open', 'High':'FB High','Low':'FB Low', 'Close':'FB Close'}, inplace = True)\n",
        "\n",
        "df = pd.merge(amzn_df, aapl_df,how = 'outer', left_index = True, right_index = True)\n",
        "df = pd.merge(df, msft_df,how = 'outer', left_index = True, right_index = True)\n",
        "df = pd.merge(df, googl_df,how = 'outer', left_index = True, right_index = True)\n",
        "df = pd.merge(df, fb_df,how = 'outer', left_index = True, right_index = True)\n",
        "\n",
        "df.to_csv('api.csv')\n",
        "#df1 = pd.read_csv(r'D:\\Data Science\\Data\\api.csv')\n"
      ],
      "execution_count": null,
      "outputs": []
    },
    {
      "cell_type": "code",
      "metadata": {
        "id": "IdD8hi5qn-Hq",
        "colab_type": "code",
        "colab": {},
        "outputId": "fe424383-e42c-4c17-b2c6-a6216dfbc14a"
      },
      "source": [
        "from matplotlib import pyplot as plt\n",
        "import numpy as np\n",
        "import seaborn as sns\n",
        "\n",
        "quarters = ['First', 'Second', 'Third', 'Fourth']\n",
        "amzn_close = [1780.75, 1893.63, 1735, 1846]\n",
        "aapl_close = [189.95, 197.92, 219.89, 291.52 ]\n",
        "googl_close = [1176.89, 1082, 1221, 1339]\n",
        "msft_close = [117.94, 133.96, 139, 157.58]\n",
        "fb_close = [166.69, 193, 178.06, 204]\n",
        "\n",
        "plt.plot(quarters, amzn_close, label = 'Amazon')\n",
        "plt.plot(quarters, aapl_close, label = 'Apple')\n",
        "plt.plot(quarters, msft_close, label = 'Microsoft')\n",
        "plt.plot(quarters, googl_close, label = 'Google')\n",
        "plt.plot(quarters, fb_close, label = 'Facebook')\n",
        "plt.legend()\n",
        "plt.xlabel('Quarters')\n",
        "plt.rcParams[\"axes.edgecolor\"] = \"0.15\"\n",
        "plt.rcParams[\"axes.linewidth\"]  = \"1.25\"\n",
        "plt.ylabel('Price of stocks(in Rs.)')\n",
        "plt.title('Closing Price of Stocks according to Quarters')\n",
        "plt.grid(True)\n",
        "plt.style.use('seaborn-poster')\n",
        "plt.plot()"
      ],
      "execution_count": null,
      "outputs": [
        {
          "output_type": "execute_result",
          "data": {
            "text/plain": [
              "[]"
            ]
          },
          "metadata": {
            "tags": []
          },
          "execution_count": 23
        },
        {
          "output_type": "display_data",
          "data": {
            "image/png": "[encoded data removed]",
            "text/plain": [
              "<Figure size 921.6x633.6 with 1 Axes>"
            ]
          },
          "metadata": {
            "tags": []
          }
        }
      ]
    },
    {
      "cell_type": "code",
      "metadata": {
        "id": "8GoYi-Gnn-Hs",
        "colab_type": "code",
        "colab": {},
        "outputId": "897f3b28-b48e-4780-cf61-54d764fb355a"
      },
      "source": [
        "amzn_high = df['Amazon High'].tolist()\n",
        "msft_high = df['Microsoft High'].tolist()\n",
        "aapl_high = df['Apple High'].tolist()\n",
        "googl_high = df['Google High'].tolist()\n",
        "fb_high = df['FB High'].tolist()\n",
        "\n",
        "dates = df['Date'].tolist()\n",
        "\n",
        "max_amzn = max(amzn_high)\n",
        "amzn_date = dates[amzn_high.index(max_amzn)]\n",
        "\n",
        "max_msft = max(msft_high)\n",
        "msft_date = dates[msft_high.index(max_msft)]\n",
        "\n",
        "max_aapl = max(aapl_high)\n",
        "aapl_date = dates[aapl_high.index(max_aapl)]\n",
        "\n",
        "max_googl = max(googl_high)\n",
        "googl_date = dates[googl_high.index(max_googl)]\n",
        "\n",
        "max_fb = max(fb_high)\n",
        "fb_date = dates[fb_high.index(max_fb)]\n",
        "\n",
        "print(\"The highest price of Amazon was :: \",max_amzn,\",which was the closing price on\", amzn_date)\n",
        "print(\"The highest price of Microsoft was :: \",max_msft,\",which was the closing price on\", msft_date)\n",
        "print(\"The highest price of Apple was :: \",max_aapl,\",which was the closing price on\", aapl_date)\n",
        "print(\"The highest price of Google was :: \",max_googl,\",which was the closing price on\", googl_date)\n",
        "print(\"The highest price of Facebook was :: \",max_fb,\",which was the closing price on\", fb_date)"
      ],
      "execution_count": null,
      "outputs": [
        {
          "output_type": "stream",
          "text": [
            "The highest price of Amazon was ::  2035.800049 ,which was the closing price on 2019-07-11\n",
            "The highest price of Microsoft was ::  159.550003 ,which was the closing price on 2019-12-27\n",
            "The highest price of Apple was ::  293.97000099999997 ,which was the closing price on 2019-12-27\n",
            "The highest price of Google was ::  1367.050049 ,which was the closing price on 2019-12-27\n",
            "The highest price of Facebook was ::  208.929993 ,which was the closing price on 2019-12-27\n"
          ],
          "name": "stdout"
        }
      ]
    },
    {
      "cell_type": "code",
      "metadata": {
        "id": "FpFF1i2ln-Hv",
        "colab_type": "code",
        "colab": {},
        "outputId": "df4ceb31-c6e7-4530-8617-f23e9f4cf4a1"
      },
      "source": [
        "amzn_low = df['Amazon Low'].tolist()\n",
        "msft_low = df['Microsoft Low'].tolist()\n",
        "aapl_low = df['Apple Low'].tolist()\n",
        "googl_low = df['Google Low'].tolist()\n",
        "fb_low = df['FB Low'].tolist()\n",
        "\n",
        "min_amzn = min(amzn_low)\n",
        "amzn_date = dates[amzn_low.index(min_amzn)]\n",
        "\n",
        "min_msft = min(msft_low)\n",
        "msft_date = dates[msft_low.index(min_msft)]\n",
        "\n",
        "min_aapl = min(aapl_low)\n",
        "aapl_date = dates[aapl_low.index(min_aapl)]\n",
        "\n",
        "min_googl = min(googl_low)\n",
        "googl_date = dates[googl_low.index(min_googl)]\n",
        "\n",
        "min_fb = min(fb_low)\n",
        "fb_date = dates[fb_low.index(min_fb)]\n",
        "\n",
        "print(\"The lowest price of Amazon was :: \",min_amzn,\",which was the closing price on\", amzn_date)\n",
        "print(\"The lowest price of Microsoft was :: \",min_msft,\",which was the closing price on\", msft_date)\n",
        "print(\"The lowest price of Apple was :: \",min_aapl,\",which was the closing price on\", aapl_date)\n",
        "print(\"The lowest price of Google was :: \",min_googl,\",which was the closing price on\", googl_date)\n",
        "print(\"The lowest price of Facebook was :: \",min_fb,\",which was the closing price on\", fb_date)"
      ],
      "execution_count": null,
      "outputs": [
        {
          "output_type": "stream",
          "text": [
            "The lowest price of Amazon was ::  1460.930054 ,which was the closing price on 2019-01-02\n",
            "The lowest price of Microsoft was ::  97.199997 ,which was the closing price on 2019-01-03\n",
            "The lowest price of Apple was ::  142.0 ,which was the closing price on 2019-01-03\n",
            "The lowest price of Google was ::  1022.3699949999999 ,which was the closing price on 2019-01-03\n",
            "The lowest price of Facebook was ::  128.559998 ,which was the closing price on 2019-01-02\n"
          ],
          "name": "stdout"
        }
      ]
    },
    {
      "cell_type": "code",
      "metadata": {
        "id": "bddpqEK6n-Hx",
        "colab_type": "code",
        "colab": {},
        "outputId": "ed323ed9-165a-4e35-9442-2761d8418f92"
      },
      "source": [
        "df['Amazon_Diff'] = df['Amazon High'] - df['Amazon Low']\n",
        "amzn_diff = max(df['Amazon_Diff'].tolist())\n",
        "amzn_ddate = dates[(df['Amazon_Diff'].tolist()).index(amzn_diff)]\n",
        "\n",
        "df['Microsoft_Diff'] = df['Microsoft High'] - df['Microsoft Low']\n",
        "msft_diff = max(df['Microsoft_Diff'].tolist())\n",
        "msft_ddate = dates[(df['Microsoft_Diff'].tolist()).index(msft_diff)]\n",
        "\n",
        "df['Apple_Diff'] = df['Apple High'] - df['Apple Low']\n",
        "aapl_diff = max(df['Apple_Diff'].tolist())\n",
        "aapl_ddate = dates[(df['Apple_Diff'].tolist()).index(aapl_diff)]\n",
        "\n",
        "df['Google_Diff'] = df['Google High'] - df['Google Low']\n",
        "googl_diff = max(df['Google_Diff'].tolist())\n",
        "googl_ddate = dates[(df['Google_Diff'].tolist()).index(googl_diff)]\n",
        "\n",
        "df['Facebook_Diff'] = df['FB High'] - df['FB Low']\n",
        "fb_diff = max(df['Facebook_Diff'].tolist())\n",
        "fb_ddate = dates[(df['Facebook_Diff'].tolist()).index(fb_diff)]\n",
        "\n",
        "print('The biggest drop in Amazon stock prices occured on, ',amzn_ddate,',which was of Rs.',amzn_diff)\n",
        "print('The biggest drop in Microsoft stock prices occured on, ',msft_ddate,',which was of Rs.',msft_diff)\n",
        "print('The biggest drop in Apple stock prices occured on, ',aapl_ddate,',which was of Rs.',aapl_diff)\n",
        "print('The biggest drop in Google stock prices occured on, ',googl_ddate,',which was of Rs.',googl_diff)\n",
        "print('The biggest drop in Facebook stock prices occured on, ',fb_ddate,',which was of Rs.',fb_diff)"
      ],
      "execution_count": null,
      "outputs": [
        {
          "output_type": "stream",
          "text": [
            "The biggest drop in Amazon stock prices occured on,  2019-06-03 ,which was of Rs. 94.29003899999998\n",
            "The biggest drop in Microsoft stock prices occured on,  2019-08-23 ,which was of Rs. 5.550003000000004\n",
            "The biggest drop in Apple stock prices occured on,  2019-10-31 ,which was of Rs. 11.91000299999996\n",
            "The biggest drop in Google stock prices occured on,  2019-05-15 ,which was of Rs. 56.900024999999914\n",
            "The biggest drop in Facebook stock prices occured on,  2019-06-03 ,which was of Rs. 14.040008\n"
          ],
          "name": "stdout"
        }
      ]
    },
    {
      "cell_type": "code",
      "metadata": {
        "id": "7TmOe24cn-Hz",
        "colab_type": "code",
        "colab": {}
      },
      "source": [
        ""
      ],
      "execution_count": null,
      "outputs": []
    }
  ]
}