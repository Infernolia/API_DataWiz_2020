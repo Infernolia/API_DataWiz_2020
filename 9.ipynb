{
  "nbformat": 4,
  "nbformat_minor": 0,
  "metadata": {
    "kernelspec": {
      "display_name": "Python 3",
      "language": "python",
      "name": "python3"
    },
    "language_info": {
      "codemirror_mode": {
        "name": "ipython",
        "version": 3
      },
      "file_extension": ".py",
      "mimetype": "text/x-python",
      "name": "python",
      "nbconvert_exporter": "python",
      "pygments_lexer": "ipython3",
      "version": "3.7.6"
    },
    "colab": {
      "name": "Datawiz_Task2.ipynb",
      "provenance": []
    }
  },
  "cells": [
    {
      "cell_type": "markdown",
      "metadata": {
        "id": "jtxm1-B_n5yS",
        "colab_type": "text"
      },
      "source": [
        "# DataWiz Task 2\n",
        "\n"
      ]
    },
    {
      "cell_type": "markdown",
      "metadata": {
        "id": "XOcn9rEHn5yT",
        "colab_type": "text"
      },
      "source": [
        "### **Problem Statement** \n",
        "Create a Python code that uses the Yahoo Finance API and get data for atleast 5 tickers. After getting the data into a csv or json, try basic operations on it."
      ]
    },
    {
      "cell_type": "code",
      "metadata": {
        "id": "FIjkCjY5n5yT",
        "colab_type": "code",
        "colab": {},
        "outputId": "8253fd1c-d3f1-4880-8ba8-2b3704bc068b"
      },
      "source": [
        "pip install yfinance"
      ],
      "execution_count": null,
      "outputs": [
        {
          "output_type": "stream",
          "text": [
            "Requirement already satisfied: yfinance in c:\\users\\admin\\anaconda3\\lib\\site-packages (0.1.54)\n",
            "Requirement already satisfied: numpy>=1.15 in c:\\users\\admin\\anaconda3\\lib\\site-packages (from yfinance) (1.18.1)\n",
            "Requirement already satisfied: requests>=2.20 in c:\\users\\admin\\anaconda3\\lib\\site-packages (from yfinance) (2.22.0)\n",
            "Requirement already satisfied: pandas>=0.24 in c:\\users\\admin\\anaconda3\\lib\\site-packages (from yfinance) (1.0.1)\n",
            "Requirement already satisfied: multitasking>=0.0.7 in c:\\users\\admin\\anaconda3\\lib\\site-packages (from yfinance) (0.0.9)\n",
            "Requirement already satisfied: certifi>=2017.4.17 in c:\\users\\admin\\anaconda3\\lib\\site-packages (from requests>=2.20->yfinance) (2019.11.28)\n",
            "Requirement already satisfied: urllib3!=1.25.0,!=1.25.1,<1.26,>=1.21.1 in c:\\users\\admin\\anaconda3\\lib\\site-packages (from requests>=2.20->yfinance) (1.25.8)\n",
            "Requirement already satisfied: chardet<3.1.0,>=3.0.2 in c:\\users\\admin\\anaconda3\\lib\\site-packages (from requests>=2.20->yfinance) (3.0.4)\n",
            "Requirement already satisfied: idna<2.9,>=2.5 in c:\\users\\admin\\anaconda3\\lib\\site-packages (from requests>=2.20->yfinance) (2.8)\n",
            "Requirement already satisfied: pytz>=2017.2 in c:\\users\\admin\\anaconda3\\lib\\site-packages (from pandas>=0.24->yfinance) (2019.3)\n",
            "Requirement already satisfied: python-dateutil>=2.6.1 in c:\\users\\admin\\anaconda3\\lib\\site-packages (from pandas>=0.24->yfinance) (2.8.1)\n",
            "Requirement already satisfied: six>=1.5 in c:\\users\\admin\\anaconda3\\lib\\site-packages (from python-dateutil>=2.6.1->pandas>=0.24->yfinance) (1.14.0)\n",
            "Note: you may need to restart the kernel to use updated packages.\n"
          ],
          "name": "stdout"
        }
      ]
    },
    {
      "cell_type": "code",
      "metadata": {
        "id": "mWjuvvajn5yW",
        "colab_type": "code",
        "colab": {}
      },
      "source": [
        "pip install plotly"
      ],
      "execution_count": null,
      "outputs": []
    },
    {
      "cell_type": "markdown",
      "metadata": {
        "id": "M1-Av8oKn5yZ",
        "colab_type": "text"
      },
      "source": [
        "Importing Required libraries"
      ]
    },
    {
      "cell_type": "code",
      "metadata": {
        "id": "LTZzuM_on5yZ",
        "colab_type": "code",
        "colab": {}
      },
      "source": [
        "import pandas as pd\n",
        "import matplotlib.pyplot as plt\n",
        "import yfinance as yf\n",
        "import datetime\n",
        "import csv"
      ],
      "execution_count": null,
      "outputs": []
    },
    {
      "cell_type": "code",
      "metadata": {
        "id": "VbH6dRJBn5yb",
        "colab_type": "code",
        "colab": {}
      },
      "source": [
        "symbols=[\"AAPL\",'GS','MSFT','INTC','AMD']\n",
        "start = '2012-01-01'\n",
        "end = '2019-09-11'\n",
        "# Read data \n",
        "dataset = yf.download(symbols,start,end)['Adj Close']\n",
        "\n",
        "# View Columns\n",
        "dataset.head()"
      ],
      "execution_count": null,
      "outputs": []
    },
    {
      "cell_type": "code",
      "metadata": {
        "id": "V14UYPRnn5yd",
        "colab_type": "code",
        "colab": {}
      },
      "source": [
        "GS=yf.Ticker(\"GS\")\n"
      ],
      "execution_count": null,
      "outputs": []
    },
    {
      "cell_type": "code",
      "metadata": {
        "id": "0QU0rVXZn5yg",
        "colab_type": "code",
        "colab": {},
        "outputId": "fce0d881-3a30-4971-d33e-69741d4f5bfe"
      },
      "source": [
        "GS.history(period=\"max\") #get historical market data"
      ],
      "execution_count": null,
      "outputs": [
        {
          "output_type": "execute_result",
          "data": {
            "text/html": [
              "<div>\n",
              "<style scoped>\n",
              "    .dataframe tbody tr th:only-of-type {\n",
              "        vertical-align: middle;\n",
              "    }\n",
              "\n",
              "    .dataframe tbody tr th {\n",
              "        vertical-align: top;\n",
              "    }\n",
              "\n",
              "    .dataframe thead th {\n",
              "        text-align: right;\n",
              "    }\n",
              "</style>\n",
              "<table border=\"1\" class=\"dataframe\">\n",
              "  <thead>\n",
              "    <tr style=\"text-align: right;\">\n",
              "      <th></th>\n",
              "      <th>Open</th>\n",
              "      <th>High</th>\n",
              "      <th>Low</th>\n",
              "      <th>Close</th>\n",
              "      <th>Volume</th>\n",
              "      <th>Dividends</th>\n",
              "      <th>Stock Splits</th>\n",
              "    </tr>\n",
              "    <tr>\n",
              "      <th>Date</th>\n",
              "      <th></th>\n",
              "      <th></th>\n",
              "      <th></th>\n",
              "      <th></th>\n",
              "      <th></th>\n",
              "      <th></th>\n",
              "      <th></th>\n",
              "    </tr>\n",
              "  </thead>\n",
              "  <tbody>\n",
              "    <tr>\n",
              "      <th>1999-05-04</th>\n",
              "      <td>59.90</td>\n",
              "      <td>60.89</td>\n",
              "      <td>55.18</td>\n",
              "      <td>55.47</td>\n",
              "      <td>22320900</td>\n",
              "      <td>0.0</td>\n",
              "      <td>0</td>\n",
              "    </tr>\n",
              "    <tr>\n",
              "      <th>1999-05-05</th>\n",
              "      <td>55.08</td>\n",
              "      <td>55.08</td>\n",
              "      <td>52.22</td>\n",
              "      <td>54.49</td>\n",
              "      <td>7565700</td>\n",
              "      <td>0.0</td>\n",
              "      <td>0</td>\n",
              "    </tr>\n",
              "    <tr>\n",
              "      <th>1999-05-06</th>\n",
              "      <td>53.60</td>\n",
              "      <td>54.68</td>\n",
              "      <td>52.86</td>\n",
              "      <td>53.55</td>\n",
              "      <td>2905700</td>\n",
              "      <td>0.0</td>\n",
              "      <td>0</td>\n",
              "    </tr>\n",
              "    <tr>\n",
              "      <th>1999-05-07</th>\n",
              "      <td>53.55</td>\n",
              "      <td>59.02</td>\n",
              "      <td>52.61</td>\n",
              "      <td>58.43</td>\n",
              "      <td>4862300</td>\n",
              "      <td>0.0</td>\n",
              "      <td>0</td>\n",
              "    </tr>\n",
              "    <tr>\n",
              "      <th>1999-05-10</th>\n",
              "      <td>57.84</td>\n",
              "      <td>57.93</td>\n",
              "      <td>55.37</td>\n",
              "      <td>55.72</td>\n",
              "      <td>2589400</td>\n",
              "      <td>0.0</td>\n",
              "      <td>0</td>\n",
              "    </tr>\n",
              "    <tr>\n",
              "      <th>...</th>\n",
              "      <td>...</td>\n",
              "      <td>...</td>\n",
              "      <td>...</td>\n",
              "      <td>...</td>\n",
              "      <td>...</td>\n",
              "      <td>...</td>\n",
              "      <td>...</td>\n",
              "    </tr>\n",
              "    <tr>\n",
              "      <th>2020-08-11</th>\n",
              "      <td>212.72</td>\n",
              "      <td>216.95</td>\n",
              "      <td>210.53</td>\n",
              "      <td>211.06</td>\n",
              "      <td>4042700</td>\n",
              "      <td>0.0</td>\n",
              "      <td>0</td>\n",
              "    </tr>\n",
              "    <tr>\n",
              "      <th>2020-08-12</th>\n",
              "      <td>214.70</td>\n",
              "      <td>215.95</td>\n",
              "      <td>209.27</td>\n",
              "      <td>212.13</td>\n",
              "      <td>2439400</td>\n",
              "      <td>0.0</td>\n",
              "      <td>0</td>\n",
              "    </tr>\n",
              "    <tr>\n",
              "      <th>2020-08-13</th>\n",
              "      <td>210.41</td>\n",
              "      <td>212.20</td>\n",
              "      <td>207.69</td>\n",
              "      <td>208.39</td>\n",
              "      <td>2219900</td>\n",
              "      <td>0.0</td>\n",
              "      <td>0</td>\n",
              "    </tr>\n",
              "    <tr>\n",
              "      <th>2020-08-14</th>\n",
              "      <td>207.46</td>\n",
              "      <td>209.48</td>\n",
              "      <td>206.61</td>\n",
              "      <td>207.97</td>\n",
              "      <td>2287600</td>\n",
              "      <td>0.0</td>\n",
              "      <td>0</td>\n",
              "    </tr>\n",
              "    <tr>\n",
              "      <th>2020-08-17</th>\n",
              "      <td>207.00</td>\n",
              "      <td>207.85</td>\n",
              "      <td>202.53</td>\n",
              "      <td>203.07</td>\n",
              "      <td>3920500</td>\n",
              "      <td>0.0</td>\n",
              "      <td>0</td>\n",
              "    </tr>\n",
              "  </tbody>\n",
              "</table>\n",
              "<p>5358 rows × 7 columns</p>\n",
              "</div>"
            ],
            "text/plain": [
              "              Open    High     Low   Close    Volume  Dividends  Stock Splits\n",
              "Date                                                                         \n",
              "1999-05-04   59.90   60.89   55.18   55.47  22320900        0.0             0\n",
              "1999-05-05   55.08   55.08   52.22   54.49   7565700        0.0             0\n",
              "1999-05-06   53.60   54.68   52.86   53.55   2905700        0.0             0\n",
              "1999-05-07   53.55   59.02   52.61   58.43   4862300        0.0             0\n",
              "1999-05-10   57.84   57.93   55.37   55.72   2589400        0.0             0\n",
              "...            ...     ...     ...     ...       ...        ...           ...\n",
              "2020-08-11  212.72  216.95  210.53  211.06   4042700        0.0             0\n",
              "2020-08-12  214.70  215.95  209.27  212.13   2439400        0.0             0\n",
              "2020-08-13  210.41  212.20  207.69  208.39   2219900        0.0             0\n",
              "2020-08-14  207.46  209.48  206.61  207.97   2287600        0.0             0\n",
              "2020-08-17  207.00  207.85  202.53  203.07   3920500        0.0             0\n",
              "\n",
              "[5358 rows x 7 columns]"
            ]
          },
          "metadata": {
            "tags": []
          },
          "execution_count": 30
        }
      ]
    },
    {
      "cell_type": "code",
      "metadata": {
        "id": "MND3Sk9In5yi",
        "colab_type": "code",
        "colab": {},
        "outputId": "967fe456-efae-4e44-e7ab-1cb4eb7fdc9f"
      },
      "source": [
        "GS.actions # see actions (dividends,splits)"
      ],
      "execution_count": null,
      "outputs": [
        {
          "output_type": "execute_result",
          "data": {
            "text/html": [
              "<div>\n",
              "<style scoped>\n",
              "    .dataframe tbody tr th:only-of-type {\n",
              "        vertical-align: middle;\n",
              "    }\n",
              "\n",
              "    .dataframe tbody tr th {\n",
              "        vertical-align: top;\n",
              "    }\n",
              "\n",
              "    .dataframe thead th {\n",
              "        text-align: right;\n",
              "    }\n",
              "</style>\n",
              "<table border=\"1\" class=\"dataframe\">\n",
              "  <thead>\n",
              "    <tr style=\"text-align: right;\">\n",
              "      <th></th>\n",
              "      <th>Dividends</th>\n",
              "      <th>Stock Splits</th>\n",
              "    </tr>\n",
              "    <tr>\n",
              "      <th>Date</th>\n",
              "      <th></th>\n",
              "      <th></th>\n",
              "    </tr>\n",
              "  </thead>\n",
              "  <tbody>\n",
              "    <tr>\n",
              "      <th>1999-08-10</th>\n",
              "      <td>0.12</td>\n",
              "      <td>0.0</td>\n",
              "    </tr>\n",
              "    <tr>\n",
              "      <th>1999-10-21</th>\n",
              "      <td>0.12</td>\n",
              "      <td>0.0</td>\n",
              "    </tr>\n",
              "    <tr>\n",
              "      <th>2000-01-20</th>\n",
              "      <td>0.12</td>\n",
              "      <td>0.0</td>\n",
              "    </tr>\n",
              "    <tr>\n",
              "      <th>2000-04-19</th>\n",
              "      <td>0.12</td>\n",
              "      <td>0.0</td>\n",
              "    </tr>\n",
              "    <tr>\n",
              "      <th>2000-07-20</th>\n",
              "      <td>0.12</td>\n",
              "      <td>0.0</td>\n",
              "    </tr>\n",
              "    <tr>\n",
              "      <th>...</th>\n",
              "      <td>...</td>\n",
              "      <td>...</td>\n",
              "    </tr>\n",
              "    <tr>\n",
              "      <th>2019-05-29</th>\n",
              "      <td>0.85</td>\n",
              "      <td>0.0</td>\n",
              "    </tr>\n",
              "    <tr>\n",
              "      <th>2019-08-29</th>\n",
              "      <td>1.25</td>\n",
              "      <td>0.0</td>\n",
              "    </tr>\n",
              "    <tr>\n",
              "      <th>2019-11-29</th>\n",
              "      <td>1.25</td>\n",
              "      <td>0.0</td>\n",
              "    </tr>\n",
              "    <tr>\n",
              "      <th>2020-02-28</th>\n",
              "      <td>1.25</td>\n",
              "      <td>0.0</td>\n",
              "    </tr>\n",
              "    <tr>\n",
              "      <th>2020-05-29</th>\n",
              "      <td>1.25</td>\n",
              "      <td>0.0</td>\n",
              "    </tr>\n",
              "  </tbody>\n",
              "</table>\n",
              "<p>85 rows × 2 columns</p>\n",
              "</div>"
            ],
            "text/plain": [
              "            Dividends  Stock Splits\n",
              "Date                               \n",
              "1999-08-10       0.12           0.0\n",
              "1999-10-21       0.12           0.0\n",
              "2000-01-20       0.12           0.0\n",
              "2000-04-19       0.12           0.0\n",
              "2000-07-20       0.12           0.0\n",
              "...               ...           ...\n",
              "2019-05-29       0.85           0.0\n",
              "2019-08-29       1.25           0.0\n",
              "2019-11-29       1.25           0.0\n",
              "2020-02-28       1.25           0.0\n",
              "2020-05-29       1.25           0.0\n",
              "\n",
              "[85 rows x 2 columns]"
            ]
          },
          "metadata": {
            "tags": []
          },
          "execution_count": 32
        }
      ]
    },
    {
      "cell_type": "code",
      "metadata": {
        "id": "ItbLZKGbn5ym",
        "colab_type": "code",
        "colab": {},
        "outputId": "fc92ed8f-cfff-4174-9d16-a4a3679f90c7"
      },
      "source": [
        "GS.dividends"
      ],
      "execution_count": null,
      "outputs": [
        {
          "output_type": "execute_result",
          "data": {
            "text/plain": [
              "Date\n",
              "1999-08-10    0.12\n",
              "1999-10-21    0.12\n",
              "2000-01-20    0.12\n",
              "2000-04-19    0.12\n",
              "2000-07-20    0.12\n",
              "              ... \n",
              "2019-05-29    0.85\n",
              "2019-08-29    1.25\n",
              "2019-11-29    1.25\n",
              "2020-02-28    1.25\n",
              "2020-05-29    1.25\n",
              "Name: Dividends, Length: 85, dtype: float64"
            ]
          },
          "metadata": {
            "tags": []
          },
          "execution_count": 33
        }
      ]
    },
    {
      "cell_type": "code",
      "metadata": {
        "id": "BxoVWZvkn5yo",
        "colab_type": "code",
        "colab": {},
        "outputId": "ff67e67e-f5e5-43b1-da0b-735796b03a85"
      },
      "source": [
        "GS.splits"
      ],
      "execution_count": null,
      "outputs": [
        {
          "output_type": "execute_result",
          "data": {
            "text/plain": [
              "Series([], Name: Stock Splits, dtype: int64)"
            ]
          },
          "metadata": {
            "tags": []
          },
          "execution_count": 35
        }
      ]
    },
    {
      "cell_type": "code",
      "metadata": {
        "id": "j6bWm5DPn5yq",
        "colab_type": "code",
        "colab": {}
      },
      "source": [
        "data = yf.download(\"SPY AAPL\", start=\"2017-01-01\", end=\"2017-04-30\")"
      ],
      "execution_count": null,
      "outputs": []
    },
    {
      "cell_type": "markdown",
      "metadata": {
        "id": "4OXbAfXBn5ys",
        "colab_type": "text"
      },
      "source": [
        "Graph for analysing opening price"
      ]
    },
    {
      "cell_type": "code",
      "metadata": {
        "id": "eJL4BHm9n5ys",
        "colab_type": "code",
        "colab": {}
      },
      "source": [
        "Opening_price_Covid = yf.Ticker('MSFT').history(\"ytd\")['Open']\n",
        "index_lst = yf.Ticker('MSFT').history(\"ytd\").index\n",
        "plt.plot(index_lst,Opening_price_Covid,label='Opening Price during Covid')\n",
        "plt.xticks(rotation=45)\n",
        "plt.xlabel('Date')\n",
        "plt.ylabel('Price')\n",
        "plt.title('Variation of Stock Prices of MSFT')\n",
        "plt.grid(True)\n",
        "plt.legend()"
      ],
      "execution_count": null,
      "outputs": []
    },
    {
      "cell_type": "code",
      "metadata": {
        "id": "ym3mZr0on5yv",
        "colab_type": "code",
        "colab": {}
      },
      "source": [
        ""
      ],
      "execution_count": null,
      "outputs": []
    }
  ]
}